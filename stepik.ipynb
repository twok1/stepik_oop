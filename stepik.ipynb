{
 "cells": [
  {
   "cell_type": "markdown",
   "metadata": {},
   "source": [
    "КУРС ПОКОЛЕНИЕ PYTHON OOP"
   ]
  },
  {
   "cell_type": "markdown",
   "metadata": {},
   "source": [
    "Пасхалки:<br>\n",
    "1. Как зовут кота Тимура?<br>\n",
    "2. Кот Тимура недоволен курсом по ООП и поменял бы в нем один аспект. Какой? Фото кота прилагается.🐈<br>\n",
    "        Вислоухий котик<br>\n",
    "3. Какой первый язык программирования освоил Тимур?<br>\n",
    "4. Кто является любимым игровым персонажем Артура?<br>\n",
    "5. Тимур — большой фанат резиновых уточек. Какая уточка в коллекции Тимура самая любимая? 🦆<br>\n",
    "6. Будучи школьником, Тимур вместо того, чтобы программировать, смотрел мультики по телевизору. Какой мультик был самым любимым у 7. Тимура?<br>\n",
    "8. Фанатом какой музыкальной группы является Валера?<br>\n",
    "9. Сколько стихов написал Артур?<br>\n",
    "10. У Тимура есть второе имя. Какое?<br>\n",
    "11. Почему Валера такой суровый?<br>"
   ]
  },
  {
   "cell_type": "code",
   "execution_count": 1,
   "metadata": {},
   "outputs": [],
   "source": [
    "# переопределяем функцию input на чтение из файла\n",
    "def input():\n",
    "    with open('input.txt', 'r', encoding='utf-8') as f:\n",
    "        try:\n",
    "            result = f.readlines()[input.num].rstrip()\n",
    "            input.num += 1\n",
    "            return result\n",
    "        except:\n",
    "            input.num = 0\n",
    "\n",
    "input.num = 0"
   ]
  },
  {
   "cell_type": "code",
   "execution_count": 5,
   "metadata": {},
   "outputs": [
    {
     "ename": "ValueError",
     "evalue": "invalid literal for int() with base 10: '(75, 180)'",
     "output_type": "error",
     "traceback": [
      "\u001b[1;31m---------------------------------------------------------------------------\u001b[0m",
      "\u001b[1;31mValueError\u001b[0m                                Traceback (most recent call last)",
      "Cell \u001b[1;32mIn[5], line 5\u001b[0m\n\u001b[0;32m      1\u001b[0m \u001b[38;5;28minput\u001b[39m\u001b[38;5;241m.\u001b[39mnum \u001b[38;5;241m=\u001b[39m \u001b[38;5;241m0\u001b[39m\n\u001b[0;32m      3\u001b[0m \u001b[38;5;66;03m# Дартс\u001b[39;00m\n\u001b[1;32m----> 5\u001b[0m num \u001b[38;5;241m=\u001b[39m \u001b[38;5;28;43mint\u001b[39;49m\u001b[43m(\u001b[49m\u001b[38;5;28;43minput\u001b[39;49m\u001b[43m(\u001b[49m\u001b[43m)\u001b[49m\u001b[43m)\u001b[49m\n\u001b[0;32m      8\u001b[0m \u001b[38;5;28;01mfor\u001b[39;00m i \u001b[38;5;129;01min\u001b[39;00m \u001b[38;5;28mrange\u001b[39m(\u001b[38;5;241m1\u001b[39m, num \u001b[38;5;241m+\u001b[39m \u001b[38;5;241m1\u001b[39m):\n\u001b[0;32m      9\u001b[0m     point \u001b[38;5;241m=\u001b[39m \u001b[38;5;241m1\u001b[39m\n",
      "\u001b[1;31mValueError\u001b[0m: invalid literal for int() with base 10: '(75, 180)'"
     ]
    }
   ],
   "source": [
    "input.num = 0\n",
    "\n",
    "# Дартс\n",
    "\n",
    "num = int(input())\n",
    "\n",
    "\n",
    "for i in range(1, num + 1):\n",
    "    point = 1\n",
    "    for k in range(1, num + 1):\n",
    "        point = min(i, k, num+1-i, num+1-k)\n",
    "        print(point, end=' ')\n",
    "    print()\n"
   ]
  },
  {
   "cell_type": "code",
   "execution_count": null,
   "metadata": {},
   "outputs": [
    {
     "name": "stdout",
     "output_type": "stream",
     "text": [
      "True\n"
     ]
    }
   ],
   "source": [
    "# Скобочная последовательность\n",
    "\n",
    "input.num = 0\n",
    "\n",
    "line = input()\n",
    "for _ in range(len(line)):\n",
    "    line = line.replace('()', '')\n",
    "if not line:\n",
    "    print('True')\n",
    "else:\n",
    "    print('False')"
   ]
  },
  {
   "cell_type": "markdown",
   "metadata": {},
   "source": [
    "Функция inversions()"
   ]
  },
  {
   "cell_type": "code",
   "execution_count": null,
   "metadata": {},
   "outputs": [
    {
     "name": "stdout",
     "output_type": "stream",
     "text": [
      "3\n"
     ]
    }
   ],
   "source": [
    "sequence = [3, 1, 4, 2]\n",
    "\n",
    "def inversions(sequence):\n",
    "    seq_count = 0\n",
    "    i, k = 0, 0\n",
    "    while i < len(sequence):\n",
    "        k = 0\n",
    "        while k < len(sequence):\n",
    "            if i < k and sequence[i] > sequence[k]:\n",
    "                seq_count += 1\n",
    "            k += 1\n",
    "        i += 1\n",
    "    return seq_count           \n",
    "    \n",
    "\n",
    "print(inversions(sequence))\n",
    "\n"
   ]
  },
  {
   "cell_type": "markdown",
   "metadata": {},
   "source": [
    "Покемоны"
   ]
  },
  {
   "cell_type": "code",
   "execution_count": null,
   "metadata": {},
   "outputs": [
    {
     "name": "stdout",
     "output_type": "stream",
     "text": [
      "3\n"
     ]
    }
   ],
   "source": [
    "input.num = 0\n",
    "from collections import Counter\n",
    "import sys\n",
    "sys.stdin = open('input.txt', 'r', encoding='utf-8')\n",
    "\n",
    "lines = sys.stdin.read().splitlines()\n",
    "print(sum([i - 1  if i > 1 else 0 for i in Counter(lines).values()]))\n",
    "    "
   ]
  },
  {
   "cell_type": "markdown",
   "metadata": {},
   "source": [
    "Декоратор @jsonify"
   ]
  },
  {
   "cell_type": "code",
   "execution_count": null,
   "metadata": {},
   "outputs": [
    {
     "name": "stdout",
     "output_type": "stream",
     "text": [
      "{\"id\": 4, \"live\": false, \"options\": null}\n"
     ]
    }
   ],
   "source": [
    "from functools import wraps\n",
    "import json\n",
    "\n",
    "def jsonify(func):\n",
    "    @wraps(func)\n",
    "    def wrapper(*args, **kwargs):\n",
    "        return json.dumps(func(*args, **kwargs))\n",
    "    return wrapper\n",
    "\n",
    "\n",
    "\n",
    "@jsonify\n",
    "def make_user(id, live, options):\n",
    "    return {'id': id, 'live': live, 'options': options}\n",
    "    \n",
    "print(make_user(4, False, None))"
   ]
  },
  {
   "cell_type": "markdown",
   "metadata": {},
   "source": [
    "Координаты"
   ]
  },
  {
   "cell_type": "code",
   "execution_count": 6,
   "metadata": {},
   "outputs": [
    {
     "name": "stdout",
     "output_type": "stream",
     "text": [
      "True\n",
      "True\n",
      "True\n",
      "True\n",
      "False\n",
      "False\n"
     ]
    }
   ],
   "source": [
    "input.num = 0\n",
    "\n",
    "import sys\n",
    "\n",
    "sys.stdin = open('input.txt', 'r', encoding='utf-8')\n",
    "\n",
    "lines = sys.stdin.read().splitlines()\n",
    "for line in lines:\n",
    "    line = eval(line)\n",
    "    if all((-90 <= line[0] <= 90, -180 <= line[1] <= 180)):\n",
    "        print('True')\n",
    "    else:\n",
    "        print('False')"
   ]
  },
  {
   "cell_type": "markdown",
   "metadata": {},
   "source": [
    "Функция quantify()"
   ]
  },
  {
   "cell_type": "code",
   "execution_count": 9,
   "metadata": {},
   "outputs": [
    {
     "name": "stdout",
     "output_type": "stream",
     "text": [
      "10\n"
     ]
    }
   ],
   "source": [
    "\n",
    "def quantify(iterable, predicate=bool):\n",
    "    return sum([1 for i in map(predicate, iterable) if i])\n",
    "\n",
    "\n",
    "numbers = [1, 2, 3, 4, 5, 6, 7, 8, 9, 10]\n",
    "\n",
    "print(quantify(numbers, lambda x: x > 1))"
   ]
  },
  {
   "cell_type": "markdown",
   "metadata": {},
   "source": [
    "Pycon"
   ]
  },
  {
   "cell_type": "code",
   "execution_count": 10,
   "metadata": {},
   "outputs": [
    {
     "name": "stdout",
     "output_type": "stream",
     "text": [
      "26.02.2015\n"
     ]
    }
   ],
   "source": [
    "import datetime\n",
    "\n",
    "input.num = 0\n",
    "\n",
    "y = int(input())\n",
    "m = int(input())\n",
    "\n",
    "th_num = 0\n",
    "d = 0\n",
    "while th_num < 4:\n",
    "    d += 1\n",
    "    p = datetime.datetime(y, m, d)\n",
    "    if datetime.datetime.weekday(p) == 3:\n",
    "        th_num += 1\n",
    "print(datetime.datetime.strftime(p, '%d.%m.%Y'))"
   ]
  },
  {
   "cell_type": "markdown",
   "metadata": {},
   "source": [
    "Функция is_integer()\n"
   ]
  },
  {
   "cell_type": "code",
   "execution_count": 13,
   "metadata": {},
   "outputs": [
    {
     "name": "stdout",
     "output_type": "stream",
     "text": [
      "True\n",
      "False\n",
      "False\n"
     ]
    }
   ],
   "source": [
    "input.num = 0\n",
    "\n",
    "def is_integer(string):\n",
    "    try:\n",
    "        int(string)\n",
    "        return True\n",
    "    except:\n",
    "        return False\n",
    "    \n",
    "    \n",
    "print(is_integer('199'))\n",
    "print(is_integer('5.0'))\n",
    "print(is_integer('1.1'))"
   ]
  },
  {
   "cell_type": "markdown",
   "metadata": {},
   "source": [
    "is_decimal()"
   ]
  },
  {
   "cell_type": "code",
   "execution_count": 15,
   "metadata": {},
   "outputs": [
    {
     "name": "stdout",
     "output_type": "stream",
     "text": [
      "True\n",
      "False\n"
     ]
    }
   ],
   "source": [
    "def is_decimal(string):\n",
    "    try:\n",
    "        float(string)\n",
    "        return True\n",
    "    except:\n",
    "        return False\n",
    "    \n",
    "print(is_decimal('-0.2'))\n",
    "print(is_decimal('.-95'))"
   ]
  },
  {
   "cell_type": "markdown",
   "metadata": {},
   "source": [
    "is_fraction()"
   ]
  },
  {
   "cell_type": "code",
   "execution_count": 28,
   "metadata": {},
   "outputs": [
    {
     "name": "stdout",
     "output_type": "stream",
     "text": [
      "False\n",
      "False\n",
      "True\n",
      "False\n",
      "False\n",
      "True\n",
      "True\n",
      "True\n",
      "True\n"
     ]
    }
   ],
   "source": [
    "import re\n",
    "def is_fraction(string):\n",
    "    if re.fullmatch(r'[-]{0,1}[0-9]+\\/[0-9]*[1-9]+[0-9]*', string):\n",
    "        return True\n",
    "    return False\n",
    "    \n",
    "print(is_fraction('1 / 82'))\n",
    "print(is_fraction('1/0'))\n",
    "print(is_fraction('-54/9'))\n",
    "print(is_fraction('-/56'))\n",
    "print(is_fraction('--1/2'))\n",
    "print(is_fraction('54365486548645/472342935648904709456'))\n",
    "print(is_fraction('1000/00001'))\n",
    "print(is_fraction('-1000/00001'))\n",
    "print(is_fraction('1000/10'))"
   ]
  },
  {
   "cell_type": "markdown",
   "metadata": {},
   "source": [
    "Функция intersperse()\n"
   ]
  },
  {
   "cell_type": "code",
   "execution_count": 2,
   "metadata": {},
   "outputs": [
    {
     "name": "stdout",
     "output_type": "stream",
     "text": [
      "B + e + e + g + e + e + k\n"
     ]
    }
   ],
   "source": [
    "def intersperse(iterable, delimeter):\n",
    "    if not iterable:\n",
    "        return\n",
    "    lll = list(iterable)\n",
    "    l = []\n",
    "    for i, k in enumerate(lll):\n",
    "        l.append(k)\n",
    "        if i < len(lll) - 1:\n",
    "            l.append(delimeter)\n",
    "        \n",
    "    for k in l:\n",
    "        yield k\n",
    "        \n",
    "\n",
    "\n",
    "# print(*intersperse([1, 2, 3], 0))\n",
    "\n",
    "# inter = intersperse('beegeek', '!')\n",
    "# print(next(inter))\n",
    "# print(next(inter))\n",
    "# print(*inter)\n",
    "\n",
    "iterable = iter('Beegeek')\n",
    "print(*intersperse(iterable, '+'))"
   ]
  },
  {
   "cell_type": "markdown",
   "metadata": {},
   "source": [
    "Аннуитет"
   ]
  },
  {
   "cell_type": "code",
   "execution_count": 5,
   "metadata": {},
   "outputs": [
    {
     "name": "stdout",
     "output_type": "stream",
     "text": [
      "132000\n",
      "145200\n",
      "159720\n"
     ]
    }
   ],
   "source": [
    "def annual_return(start, percent, years):\n",
    "    for i in range(years):\n",
    "        start += start * ( percent) / 100\n",
    "        yield start\n",
    "\n",
    "for value in annual_return(120000, 10, 3):\n",
    "    print(round(value))"
   ]
  },
  {
   "cell_type": "markdown",
   "metadata": {},
   "source": [
    "Функция pluck()\n"
   ]
  },
  {
   "cell_type": "code",
   "execution_count": 7,
   "metadata": {},
   "outputs": [
    {
     "name": "stdout",
     "output_type": "stream",
     "text": [
      "40\n",
      "5\n",
      "0\n"
     ]
    }
   ],
   "source": [
    "def pluck(data: dict, path, default=None):\n",
    "    d = data\n",
    "    for key in path.split('.'):\n",
    "        val = d.get(key, default)\n",
    "        if not val:\n",
    "            break\n",
    "        else:\n",
    "            d = val\n",
    "    return val\n",
    "\n",
    "d = {'a': {'b': 5, 'z': 20}, 'c': {'d': 3}, 'x': 40}\n",
    "\n",
    "print(pluck(d, 'x'))\n",
    "\n",
    "d = {'a': {'b': 5, 'z': 20}, 'c': {'d': 3}, 'x': 40}\n",
    "\n",
    "print(pluck(d, 'a.b'))\n",
    "\n",
    "d = {'a': {'b': 5, 'z': 20}, 'c': {'d': 3}, 'x': 40}\n",
    "\n",
    "print(pluck(d, 'z', 0))"
   ]
  },
  {
   "cell_type": "markdown",
   "metadata": {},
   "source": [
    "Декоратор @recviz 🌶️🌶️"
   ]
  },
  {
   "cell_type": "code",
   "execution_count": 33,
   "metadata": {},
   "outputs": [
    {
     "name": "stdout",
     "output_type": "stream",
     "text": [
      "-> add(1, b=2)\n",
      "<- 3\n",
      "-> add('a', b='b', c='c', d=3, e=True)\n",
      "<- 'abcabcabcabc'\n",
      "-> fib(4)\n",
      "    -> fib(3)\n",
      "        -> fib(2)\n",
      "        <- 1\n",
      "        -> fib(1)\n",
      "        <- 1\n",
      "    <- 2\n",
      "    -> fib(2)\n",
      "    <- 1\n",
      "<- 3\n"
     ]
    },
    {
     "data": {
      "text/plain": [
       "3"
      ]
     },
     "execution_count": 33,
     "metadata": {},
     "output_type": "execute_result"
    }
   ],
   "source": [
    "import inspect\n",
    "from functools import wraps\n",
    "def recviz(func):\n",
    "    num_of_ent = len(inspect.getouterframes(inspect.currentframe()))\n",
    "    @wraps(func)\n",
    "    def wrapper(*args, **kwargs):\n",
    "        num_of_recur = int((len(inspect.getouterframes(inspect.currentframe())) - num_of_ent) / 2) * 4\n",
    "        kw = tuple(i if type(i) is not str else f\"'{i}'\" for i in args) + tuple(f'{k}={v}' if type(v) is not str else f\"{k}='{v}'\" for k, v in kwargs.items())\n",
    "        print(f'{num_of_recur * \" \"}-> {func.__name__}({\", \".join(map(str, kw))})')\n",
    "        result = func(*args, **kwargs)\n",
    "        if type(result) is str:\n",
    "            result = f\"'{result}'\"\n",
    "        print(f'{num_of_recur * \" \"}<- {result}')\n",
    "        return result\n",
    "    return wrapper\n",
    "\n",
    "\n",
    "@recviz\n",
    "def add(a, b):\n",
    "    return a + b\n",
    "\n",
    "add(1, b=2)\n",
    "\n",
    "@recviz\n",
    "def add(a, b, c, d, e):\n",
    "    return (a + b + c) * (d + e)\n",
    "\n",
    "add('a', b='b', c='c', d=3, e=True)\n",
    "\n",
    "@recviz\n",
    "def fib(n):\n",
    "    if n <= 2:\n",
    "        return 1\n",
    "    else:\n",
    "        return fib(n - 1) + fib(n - 2)\n",
    "        \n",
    "fib(4)"
   ]
  },
  {
   "cell_type": "code",
   "execution_count": 19,
   "metadata": {},
   "outputs": [
    {
     "data": {
      "text/plain": [
       "(1, 5, 3, 6)"
      ]
     },
     "execution_count": 19,
     "metadata": {},
     "output_type": "execute_result"
    }
   ],
   "source": [
    "(1, 5) + (3, 6)"
   ]
  },
  {
   "cell_type": "code",
   "execution_count": 3,
   "metadata": {},
   "outputs": [
    {
     "ename": "TypeError",
     "evalue": "ElectricCar.__init__() takes 1 positional argument but 2 were given",
     "output_type": "error",
     "traceback": [
      "\u001b[1;31m---------------------------------------------------------------------------\u001b[0m",
      "\u001b[1;31mTypeError\u001b[0m                                 Traceback (most recent call last)",
      "Cell \u001b[1;32mIn[3], line 6\u001b[0m\n\u001b[0;32m      2\u001b[0m     \u001b[38;5;28;01mdef\u001b[39;00m \u001b[38;5;21m__init__\u001b[39m(color):\n\u001b[0;32m      3\u001b[0m         \u001b[38;5;28mself\u001b[39m\u001b[38;5;241m.\u001b[39mcolor \u001b[38;5;241m=\u001b[39m color\n\u001b[1;32m----> 6\u001b[0m car1 \u001b[38;5;241m=\u001b[39m \u001b[43mElectricCar\u001b[49m\u001b[43m(\u001b[49m\u001b[38;5;124;43m'\u001b[39;49m\u001b[38;5;124;43mblack\u001b[39;49m\u001b[38;5;124;43m'\u001b[39;49m\u001b[43m)\u001b[49m\n\u001b[0;32m      7\u001b[0m car2 \u001b[38;5;241m=\u001b[39m ElectricCar(\u001b[38;5;124m'\u001b[39m\u001b[38;5;124myellow\u001b[39m\u001b[38;5;124m'\u001b[39m)\n\u001b[0;32m      9\u001b[0m \u001b[38;5;28mprint\u001b[39m(car1\u001b[38;5;241m.\u001b[39mcolor)\n",
      "\u001b[1;31mTypeError\u001b[0m: ElectricCar.__init__() takes 1 positional argument but 2 were given"
     ]
    }
   ],
   "source": [
    "class ElectricCar:\n",
    "    def __init__(color):\n",
    "        self.color = color\n",
    "\n",
    "\n",
    "car1 = ElectricCar('black')\n",
    "car2 = ElectricCar('yellow')\n",
    "\n",
    "print(car1.color)\n",
    "print(car2.color)"
   ]
  },
  {
   "cell_type": "markdown",
   "metadata": {},
   "source": []
  },
  {
   "cell_type": "code",
   "execution_count": 8,
   "metadata": {},
   "outputs": [
    {
     "ename": "NameError",
     "evalue": "name 'Circle' is not defined",
     "output_type": "error",
     "traceback": [
      "\u001b[1;31m---------------------------------------------------------------------------\u001b[0m",
      "\u001b[1;31mNameError\u001b[0m                                 Traceback (most recent call last)",
      "Cell \u001b[1;32mIn[8], line 7\u001b[0m\n\u001b[0;32m      4\u001b[0m     \u001b[38;5;28;01mdef\u001b[39;00m \u001b[38;5;21mshoot\u001b[39m(\u001b[38;5;28mself\u001b[39m):\n\u001b[0;32m      5\u001b[0m         \u001b[38;5;28mprint\u001b[39m(\u001b[38;5;124m'\u001b[39m\u001b[38;5;124mpif\u001b[39m\u001b[38;5;124m'\u001b[39m)\n\u001b[1;32m----> 7\u001b[0m circle \u001b[38;5;241m=\u001b[39m \u001b[43mCircle\u001b[49m(\u001b[38;5;241m5\u001b[39m)\n\u001b[0;32m      9\u001b[0m \u001b[38;5;28mprint\u001b[39m(circle\u001b[38;5;241m.\u001b[39mradius)\n\u001b[0;32m     10\u001b[0m \u001b[38;5;28mprint\u001b[39m(circle\u001b[38;5;241m.\u001b[39mdiameter)\n",
      "\u001b[1;31mNameError\u001b[0m: name 'Circle' is not defined"
     ]
    }
   ],
   "source": [
    "class Gun:\n",
    "    pass\n",
    "\n",
    "    def shoot(self):\n",
    "        print('pif')\n",
    "\n",
    "gun = Gun()\n",
    "\n",
    "gun.shoot()\n",
    "gun.shoot()\n",
    "gun.shoot()"
   ]
  },
  {
   "cell_type": "code",
   "execution_count": 9,
   "metadata": {},
   "outputs": [
    {
     "name": "stdout",
     "output_type": "stream",
     "text": [
      "5\n",
      "10\n",
      "78.53981633974483\n"
     ]
    }
   ],
   "source": [
    "from math import pi\n",
    "\n",
    "class Circle:\n",
    "    def __init__(self, radius):\n",
    "        self.radius = radius\n",
    "        self.diameter = self.radius * 2\n",
    "        self.area = pi * self.radius ** 2\n",
    "        \n",
    "        \n",
    "\n",
    "circle = Circle(5)\n",
    "\n",
    "print(circle.radius)\n",
    "print(circle.diameter)\n",
    "print(circle.area)"
   ]
  },
  {
   "cell_type": "code",
   "execution_count": null,
   "metadata": {},
   "outputs": [],
   "source": [
    "# класс Bee\n",
    "\n",
    "class Bee:\n",
    "    def __init__(self, x=0, y=0) -> None:\n",
    "        self.x = x\n",
    "        self.y = y\n",
    "        \n",
    "    def move_down(self, n):\n",
    "        self.y -= n\n",
    "        \n",
    "    def move_up(self, n):\n",
    "        self.y += n\n",
    "        \n",
    "    def move_left(self, n):\n",
    "        self.x -= n\n",
    "        \n",
    "    def move_right(self, n):\n",
    "        self.x += n\n",
    "        "
   ]
  }
 ],
 "metadata": {
  "kernelspec": {
   "display_name": "Python 3",
   "language": "python",
   "name": "python3"
  },
  "language_info": {
   "codemirror_mode": {
    "name": "ipython",
    "version": 3
   },
   "file_extension": ".py",
   "mimetype": "text/x-python",
   "name": "python",
   "nbconvert_exporter": "python",
   "pygments_lexer": "ipython3",
   "version": "3.12.4"
  }
 },
 "nbformat": 4,
 "nbformat_minor": 2
}
