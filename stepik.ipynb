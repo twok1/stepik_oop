{
 "cells": [
  {
   "cell_type": "markdown",
   "metadata": {},
   "source": [
    "КУРС ПОКОЛЕНИЕ PYTHON OOP"
   ]
  },
  {
   "cell_type": "markdown",
   "metadata": {},
   "source": [
    "Пасхалки:<br>\n",
    "1. Как зовут кота Тимура?<br>\n",
    "2. Кот Тимура недоволен курсом по ООП и поменял бы в нем один аспект. Какой? Фото кота прилагается.🐈<br>\n",
    "        Вислоухий котик<br>\n",
    "3. Какой первый язык программирования освоил Тимур?<br>\n",
    "4. Кто является любимым игровым персонажем Артура?<br>\n",
    "5. Тимур — большой фанат резиновых уточек. Какая уточка в коллекции Тимура самая любимая? 🦆<br>\n",
    "6. Будучи школьником, Тимур вместо того, чтобы программировать, смотрел мультики по телевизору. Какой мультик был самым любимым у 7. Тимура?<br>\n",
    "8. Фанатом какой музыкальной группы является Валера?<br>\n",
    "9. Сколько стихов написал Артур?<br>\n",
    "10. У Тимура есть второе имя. Какое?<br>\n",
    "11. Почему Валера такой суровый?<br>"
   ]
  },
  {
   "cell_type": "code",
   "execution_count": 4,
   "metadata": {},
   "outputs": [],
   "source": [
    "# переопределяем функцию input на чтение из файла\n",
    "def input():\n",
    "    with open('input.txt', 'r', encoding='utf-8') as f:\n",
    "        try:\n",
    "            result = f.readlines()[input.num].rstrip()\n",
    "            input.num += 1\n",
    "            return result\n",
    "        except:\n",
    "            input.num = 0\n",
    "\n",
    "input.num = 0"
   ]
  },
  {
   "cell_type": "code",
   "execution_count": 5,
   "metadata": {},
   "outputs": [
    {
     "ename": "ValueError",
     "evalue": "invalid literal for int() with base 10: '(75, 180)'",
     "output_type": "error",
     "traceback": [
      "\u001b[1;31m---------------------------------------------------------------------------\u001b[0m",
      "\u001b[1;31mValueError\u001b[0m                                Traceback (most recent call last)",
      "Cell \u001b[1;32mIn[5], line 5\u001b[0m\n\u001b[0;32m      1\u001b[0m \u001b[38;5;28minput\u001b[39m\u001b[38;5;241m.\u001b[39mnum \u001b[38;5;241m=\u001b[39m \u001b[38;5;241m0\u001b[39m\n\u001b[0;32m      3\u001b[0m \u001b[38;5;66;03m# Дартс\u001b[39;00m\n\u001b[1;32m----> 5\u001b[0m num \u001b[38;5;241m=\u001b[39m \u001b[38;5;28;43mint\u001b[39;49m\u001b[43m(\u001b[49m\u001b[38;5;28;43minput\u001b[39;49m\u001b[43m(\u001b[49m\u001b[43m)\u001b[49m\u001b[43m)\u001b[49m\n\u001b[0;32m      8\u001b[0m \u001b[38;5;28;01mfor\u001b[39;00m i \u001b[38;5;129;01min\u001b[39;00m \u001b[38;5;28mrange\u001b[39m(\u001b[38;5;241m1\u001b[39m, num \u001b[38;5;241m+\u001b[39m \u001b[38;5;241m1\u001b[39m):\n\u001b[0;32m      9\u001b[0m     point \u001b[38;5;241m=\u001b[39m \u001b[38;5;241m1\u001b[39m\n",
      "\u001b[1;31mValueError\u001b[0m: invalid literal for int() with base 10: '(75, 180)'"
     ]
    }
   ],
   "source": [
    "input.num = 0\n",
    "\n",
    "# Дартс\n",
    "\n",
    "num = int(input())\n",
    "\n",
    "\n",
    "for i in range(1, num + 1):\n",
    "    point = 1\n",
    "    for k in range(1, num + 1):\n",
    "        point = min(i, k, num+1-i, num+1-k)\n",
    "        print(point, end=' ')\n",
    "    print()\n"
   ]
  },
  {
   "cell_type": "code",
   "execution_count": null,
   "metadata": {},
   "outputs": [
    {
     "name": "stdout",
     "output_type": "stream",
     "text": [
      "True\n"
     ]
    }
   ],
   "source": [
    "# Скобочная последовательность\n",
    "\n",
    "input.num = 0\n",
    "\n",
    "line = input()\n",
    "for _ in range(len(line)):\n",
    "    line = line.replace('()', '')\n",
    "if not line:\n",
    "    print('True')\n",
    "else:\n",
    "    print('False')"
   ]
  },
  {
   "cell_type": "markdown",
   "metadata": {},
   "source": [
    "Функция inversions()"
   ]
  },
  {
   "cell_type": "code",
   "execution_count": null,
   "metadata": {},
   "outputs": [
    {
     "name": "stdout",
     "output_type": "stream",
     "text": [
      "3\n"
     ]
    }
   ],
   "source": [
    "sequence = [3, 1, 4, 2]\n",
    "\n",
    "def inversions(sequence):\n",
    "    seq_count = 0\n",
    "    i, k = 0, 0\n",
    "    while i < len(sequence):\n",
    "        k = 0\n",
    "        while k < len(sequence):\n",
    "            if i < k and sequence[i] > sequence[k]:\n",
    "                seq_count += 1\n",
    "            k += 1\n",
    "        i += 1\n",
    "    return seq_count           \n",
    "    \n",
    "\n",
    "print(inversions(sequence))\n",
    "\n"
   ]
  },
  {
   "cell_type": "markdown",
   "metadata": {},
   "source": [
    "Покемоны"
   ]
  },
  {
   "cell_type": "code",
   "execution_count": null,
   "metadata": {},
   "outputs": [
    {
     "name": "stdout",
     "output_type": "stream",
     "text": [
      "3\n"
     ]
    }
   ],
   "source": [
    "input.num = 0\n",
    "from collections import Counter\n",
    "import sys\n",
    "sys.stdin = open('input.txt', 'r', encoding='utf-8')\n",
    "\n",
    "lines = sys.stdin.read().splitlines()\n",
    "print(sum([i - 1  if i > 1 else 0 for i in Counter(lines).values()]))\n",
    "    "
   ]
  },
  {
   "cell_type": "markdown",
   "metadata": {},
   "source": [
    "Декоратор @jsonify"
   ]
  },
  {
   "cell_type": "code",
   "execution_count": null,
   "metadata": {},
   "outputs": [
    {
     "name": "stdout",
     "output_type": "stream",
     "text": [
      "{\"id\": 4, \"live\": false, \"options\": null}\n"
     ]
    }
   ],
   "source": [
    "from functools import wraps\n",
    "import json\n",
    "\n",
    "def jsonify(func):\n",
    "    @wraps(func)\n",
    "    def wrapper(*args, **kwargs):\n",
    "        return json.dumps(func(*args, **kwargs))\n",
    "    return wrapper\n",
    "\n",
    "\n",
    "\n",
    "@jsonify\n",
    "def make_user(id, live, options):\n",
    "    return {'id': id, 'live': live, 'options': options}\n",
    "    \n",
    "print(make_user(4, False, None))"
   ]
  },
  {
   "cell_type": "markdown",
   "metadata": {},
   "source": [
    "Координаты"
   ]
  },
  {
   "cell_type": "code",
   "execution_count": 6,
   "metadata": {},
   "outputs": [
    {
     "name": "stdout",
     "output_type": "stream",
     "text": [
      "True\n",
      "True\n",
      "True\n",
      "True\n",
      "False\n",
      "False\n"
     ]
    }
   ],
   "source": [
    "input.num = 0\n",
    "\n",
    "import sys\n",
    "\n",
    "sys.stdin = open('input.txt', 'r', encoding='utf-8')\n",
    "\n",
    "lines = sys.stdin.read().splitlines()\n",
    "for line in lines:\n",
    "    line = eval(line)\n",
    "    if all((-90 <= line[0] <= 90, -180 <= line[1] <= 180)):\n",
    "        print('True')\n",
    "    else:\n",
    "        print('False')"
   ]
  },
  {
   "cell_type": "markdown",
   "metadata": {},
   "source": [
    "Функция quantify()"
   ]
  },
  {
   "cell_type": "code",
   "execution_count": 9,
   "metadata": {},
   "outputs": [
    {
     "name": "stdout",
     "output_type": "stream",
     "text": [
      "10\n"
     ]
    }
   ],
   "source": [
    "\n",
    "def quantify(iterable, predicate=bool):\n",
    "    return sum([1 for i in map(predicate, iterable) if i])\n",
    "\n",
    "\n",
    "numbers = [1, 2, 3, 4, 5, 6, 7, 8, 9, 10]\n",
    "\n",
    "print(quantify(numbers, lambda x: x > 1))"
   ]
  }
 ],
 "metadata": {
  "kernelspec": {
   "display_name": "Python 3",
   "language": "python",
   "name": "python3"
  },
  "language_info": {
   "codemirror_mode": {
    "name": "ipython",
    "version": 3
   },
   "file_extension": ".py",
   "mimetype": "text/x-python",
   "name": "python",
   "nbconvert_exporter": "python",
   "pygments_lexer": "ipython3",
   "version": "3.12.4"
  }
 },
 "nbformat": 4,
 "nbformat_minor": 2
}
