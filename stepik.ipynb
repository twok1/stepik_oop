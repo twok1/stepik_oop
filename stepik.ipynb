{
 "cells": [
  {
   "cell_type": "markdown",
   "metadata": {},
   "source": [
    "КУРС ПОКОЛЕНИЕ PYTHON OOP"
   ]
  },
  {
   "cell_type": "markdown",
   "metadata": {},
   "source": [
    "Пасхалки:<br>\n",
    "1. Как зовут кота Тимура?<br>\n",
    "2. Кот Тимура недоволен курсом по ООП и поменял бы в нем один аспект. Какой? Фото кота прилагается.🐈<br>\n",
    "        Вислоухий котик<br>\n",
    "3. Какой первый язык программирования освоил Тимур?<br>\n",
    "4. Кто является любимым игровым персонажем Артура?<br>\n",
    "5. Тимур — большой фанат резиновых уточек. Какая уточка в коллекции Тимура самая любимая? 🦆<br>\n",
    "6. Будучи школьником, Тимур вместо того, чтобы программировать, смотрел мультики по телевизору. Какой мультик был самым любимым у 7. Тимура?<br>\n",
    "8. Фанатом какой музыкальной группы является Валера?<br>\n",
    "9. Сколько стихов написал Артур?<br>\n",
    "10. У Тимура есть второе имя. Какое?<br>\n",
    "11. Почему Валера такой суровый?<br>"
   ]
  },
  {
   "cell_type": "code",
   "execution_count": null,
   "metadata": {},
   "outputs": [],
   "source": [
    "# переопределяем функцию input на чтение из файла\n",
    "def input():\n",
    "    with open('input.txt', 'r', encoding='utf-8') as f:\n",
    "        try:\n",
    "            result = f.readlines()[input.num].rstrip()\n",
    "            input.num += 1\n",
    "            return result\n",
    "        except:\n",
    "            input.num = 0\n",
    "\n",
    "input.num = 0"
   ]
  },
  {
   "cell_type": "code",
   "execution_count": null,
   "metadata": {},
   "outputs": [],
   "source": [
    "input.num = 0\n",
    "\n"
   ]
  }
 ],
 "metadata": {
  "kernelspec": {
   "display_name": "Python 3",
   "language": "python",
   "name": "python3"
  },
  "language_info": {
   "name": "python",
   "version": "3.12.4"
  }
 },
 "nbformat": 4,
 "nbformat_minor": 2
}
