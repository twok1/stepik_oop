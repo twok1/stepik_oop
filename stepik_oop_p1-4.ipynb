{
 "cells": [
  {
   "cell_type": "markdown",
   "metadata": {},
   "source": [
    "КУРС ПОКОЛЕНИЕ PYTHON OOP"
   ]
  },
  {
   "cell_type": "markdown",
   "metadata": {},
   "source": [
    "Пасхалки:<br>\n",
    "1. Как зовут кота Тимура?<br>\n",
    "2. Кот Тимура недоволен курсом по ООП и поменял бы в нем один аспект. Какой? Фото кота прилагается.🐈<br>\n",
    "        Вислоухий котик<br>\n",
    "3. Какой первый язык программирования освоил Тимур?<br>\n",
    "4. Кто является любимым игровым персонажем Артура?<br>\n",
    "5. Тимур — большой фанат резиновых уточек. Какая уточка в коллекции Тимура самая любимая? 🦆<br>\n",
    "6. Будучи школьником, Тимур вместо того, чтобы программировать, смотрел мультики по телевизору. Какой мультик был самым любимым у 7. Тимура?<br>\n",
    "8. Фанатом какой музыкальной группы является Валера?<br>\n",
    "9. Сколько стихов написал Артур?<br>\n",
    "10. У Тимура есть второе имя. Какое?<br>\n",
    "11. Почему Валера такой суровый?<br>"
   ]
  },
  {
   "cell_type": "code",
   "execution_count": 1,
   "metadata": {},
   "outputs": [],
   "source": [
    "# переопределяем функцию input на чтение из файла\n",
    "def input():\n",
    "    with open('input.txt', 'r', encoding='utf-8') as f:\n",
    "        try:\n",
    "            result = f.readlines()[input.num].rstrip()\n",
    "            input.num += 1\n",
    "            return result\n",
    "        except:\n",
    "            input.num = 0\n",
    "\n",
    "input.num = 0"
   ]
  },
  {
   "cell_type": "code",
   "execution_count": 5,
   "metadata": {},
   "outputs": [
    {
     "ename": "ValueError",
     "evalue": "invalid literal for int() with base 10: '(75, 180)'",
     "output_type": "error",
     "traceback": [
      "\u001b[1;31m---------------------------------------------------------------------------\u001b[0m",
      "\u001b[1;31mValueError\u001b[0m                                Traceback (most recent call last)",
      "Cell \u001b[1;32mIn[5], line 5\u001b[0m\n\u001b[0;32m      1\u001b[0m \u001b[38;5;28minput\u001b[39m\u001b[38;5;241m.\u001b[39mnum \u001b[38;5;241m=\u001b[39m \u001b[38;5;241m0\u001b[39m\n\u001b[0;32m      3\u001b[0m \u001b[38;5;66;03m# Дартс\u001b[39;00m\n\u001b[1;32m----> 5\u001b[0m num \u001b[38;5;241m=\u001b[39m \u001b[38;5;28;43mint\u001b[39;49m\u001b[43m(\u001b[49m\u001b[38;5;28;43minput\u001b[39;49m\u001b[43m(\u001b[49m\u001b[43m)\u001b[49m\u001b[43m)\u001b[49m\n\u001b[0;32m      8\u001b[0m \u001b[38;5;28;01mfor\u001b[39;00m i \u001b[38;5;129;01min\u001b[39;00m \u001b[38;5;28mrange\u001b[39m(\u001b[38;5;241m1\u001b[39m, num \u001b[38;5;241m+\u001b[39m \u001b[38;5;241m1\u001b[39m):\n\u001b[0;32m      9\u001b[0m     point \u001b[38;5;241m=\u001b[39m \u001b[38;5;241m1\u001b[39m\n",
      "\u001b[1;31mValueError\u001b[0m: invalid literal for int() with base 10: '(75, 180)'"
     ]
    }
   ],
   "source": [
    "input.num = 0\n",
    "\n",
    "# Дартс\n",
    "\n",
    "num = int(input())\n",
    "\n",
    "\n",
    "for sym in range(1, num + 1):\n",
    "    point = 1\n",
    "    for k in range(1, num + 1):\n",
    "        point = min(sym, k, num+1-sym, num+1-k)\n",
    "        print(point, end=' ')\n",
    "    print()\n"
   ]
  },
  {
   "cell_type": "code",
   "execution_count": null,
   "metadata": {},
   "outputs": [
    {
     "name": "stdout",
     "output_type": "stream",
     "text": [
      "True\n"
     ]
    }
   ],
   "source": [
    "# Скобочная последовательность\n",
    "\n",
    "input.num = 0\n",
    "\n",
    "line = input()\n",
    "for _ in range(len(line)):\n",
    "    line = line.replace('()', '')\n",
    "if not line:\n",
    "    print('True')\n",
    "else:\n",
    "    print('False')"
   ]
  },
  {
   "cell_type": "markdown",
   "metadata": {},
   "source": [
    "Функция inversions()"
   ]
  },
  {
   "cell_type": "code",
   "execution_count": null,
   "metadata": {},
   "outputs": [
    {
     "name": "stdout",
     "output_type": "stream",
     "text": [
      "3\n"
     ]
    }
   ],
   "source": [
    "sequence = [3, 1, 4, 2]\n",
    "\n",
    "def inversions(sequence):\n",
    "    seq_count = 0\n",
    "    i, k = 0, 0\n",
    "    while i < len(sequence):\n",
    "        k = 0\n",
    "        while k < len(sequence):\n",
    "            if i < k and sequence[i] > sequence[k]:\n",
    "                seq_count += 1\n",
    "            k += 1\n",
    "        i += 1\n",
    "    return seq_count           \n",
    "    \n",
    "\n",
    "print(inversions(sequence))\n",
    "\n"
   ]
  },
  {
   "cell_type": "markdown",
   "metadata": {},
   "source": [
    "Покемоны"
   ]
  },
  {
   "cell_type": "code",
   "execution_count": null,
   "metadata": {},
   "outputs": [
    {
     "name": "stdout",
     "output_type": "stream",
     "text": [
      "3\n"
     ]
    }
   ],
   "source": [
    "input.num = 0\n",
    "from collections import Counter\n",
    "import sys\n",
    "sys.stdin = open('input.txt', 'r', encoding='utf-8')\n",
    "\n",
    "lines = sys.stdin.read().splitlines()\n",
    "print(sum([i - 1  if i > 1 else 0 for i in Counter(lines).values()]))\n",
    "    "
   ]
  },
  {
   "cell_type": "markdown",
   "metadata": {},
   "source": [
    "Декоратор @jsonify"
   ]
  },
  {
   "cell_type": "code",
   "execution_count": null,
   "metadata": {},
   "outputs": [
    {
     "name": "stdout",
     "output_type": "stream",
     "text": [
      "{\"id\": 4, \"live\": false, \"options\": null}\n"
     ]
    }
   ],
   "source": [
    "from functools import wraps\n",
    "import json\n",
    "\n",
    "def jsonify(func):\n",
    "    @wraps(func)\n",
    "    def wrapper(*args, **kwargs):\n",
    "        return json.dumps(func(*args, **kwargs))\n",
    "    return wrapper\n",
    "\n",
    "\n",
    "\n",
    "@jsonify\n",
    "def make_user(id, live, options):\n",
    "    return {'id': id, 'live': live, 'options': options}\n",
    "    \n",
    "print(make_user(4, False, None))"
   ]
  },
  {
   "cell_type": "markdown",
   "metadata": {},
   "source": [
    "Координаты"
   ]
  },
  {
   "cell_type": "code",
   "execution_count": 6,
   "metadata": {},
   "outputs": [
    {
     "name": "stdout",
     "output_type": "stream",
     "text": [
      "True\n",
      "True\n",
      "True\n",
      "True\n",
      "False\n",
      "False\n"
     ]
    }
   ],
   "source": [
    "input.num = 0\n",
    "\n",
    "import sys\n",
    "\n",
    "sys.stdin = open('input.txt', 'r', encoding='utf-8')\n",
    "\n",
    "lines = sys.stdin.read().splitlines()\n",
    "for line in lines:\n",
    "    line = eval(line)\n",
    "    if all((-90 <= line[0] <= 90, -180 <= line[1] <= 180)):\n",
    "        print('True')\n",
    "    else:\n",
    "        print('False')"
   ]
  },
  {
   "cell_type": "markdown",
   "metadata": {},
   "source": [
    "Функция quantify()"
   ]
  },
  {
   "cell_type": "code",
   "execution_count": 9,
   "metadata": {},
   "outputs": [
    {
     "name": "stdout",
     "output_type": "stream",
     "text": [
      "10\n"
     ]
    }
   ],
   "source": [
    "\n",
    "def quantify(iterable, predicate=bool):\n",
    "    return sum([1 for i in map(predicate, iterable) if i])\n",
    "\n",
    "\n",
    "numbers = [1, 2, 3, 4, 5, 6, 7, 8, 9, 10]\n",
    "\n",
    "print(quantify(numbers, lambda x: x > 1))"
   ]
  },
  {
   "cell_type": "markdown",
   "metadata": {},
   "source": [
    "Pycon"
   ]
  },
  {
   "cell_type": "code",
   "execution_count": 10,
   "metadata": {},
   "outputs": [
    {
     "name": "stdout",
     "output_type": "stream",
     "text": [
      "26.02.2015\n"
     ]
    }
   ],
   "source": [
    "import datetime\n",
    "\n",
    "input.num = 0\n",
    "\n",
    "y = int(input())\n",
    "m = int(input())\n",
    "\n",
    "th_num = 0\n",
    "d = 0\n",
    "while th_num < 4:\n",
    "    d += 1\n",
    "    p = datetime.datetime(y, m, d)\n",
    "    if datetime.datetime.weekday(p) == 3:\n",
    "        th_num += 1\n",
    "print(datetime.datetime.strftime(p, '%d.%m.%Y'))"
   ]
  },
  {
   "cell_type": "markdown",
   "metadata": {},
   "source": [
    "Функция is_integer()\n"
   ]
  },
  {
   "cell_type": "code",
   "execution_count": 13,
   "metadata": {},
   "outputs": [
    {
     "name": "stdout",
     "output_type": "stream",
     "text": [
      "True\n",
      "False\n",
      "False\n"
     ]
    }
   ],
   "source": [
    "input.num = 0\n",
    "\n",
    "def is_integer(string):\n",
    "    try:\n",
    "        int(string)\n",
    "        return True\n",
    "    except:\n",
    "        return False\n",
    "    \n",
    "    \n",
    "print(is_integer('199'))\n",
    "print(is_integer('5.0'))\n",
    "print(is_integer('1.1'))"
   ]
  },
  {
   "cell_type": "markdown",
   "metadata": {},
   "source": [
    "is_decimal()"
   ]
  },
  {
   "cell_type": "code",
   "execution_count": 15,
   "metadata": {},
   "outputs": [
    {
     "name": "stdout",
     "output_type": "stream",
     "text": [
      "True\n",
      "False\n"
     ]
    }
   ],
   "source": [
    "def is_decimal(string):\n",
    "    try:\n",
    "        float(string)\n",
    "        return True\n",
    "    except:\n",
    "        return False\n",
    "    \n",
    "print(is_decimal('-0.2'))\n",
    "print(is_decimal('.-95'))"
   ]
  },
  {
   "cell_type": "markdown",
   "metadata": {},
   "source": [
    "is_fraction()"
   ]
  },
  {
   "cell_type": "code",
   "execution_count": 28,
   "metadata": {},
   "outputs": [
    {
     "name": "stdout",
     "output_type": "stream",
     "text": [
      "False\n",
      "False\n",
      "True\n",
      "False\n",
      "False\n",
      "True\n",
      "True\n",
      "True\n",
      "True\n"
     ]
    }
   ],
   "source": [
    "import re\n",
    "def is_fraction(string):\n",
    "    if re.fullmatch(r'[-]{0,1}[0-9]+\\/[0-9]*[1-9]+[0-9]*', string):\n",
    "        return True\n",
    "    return False\n",
    "    \n",
    "print(is_fraction('1 / 82'))\n",
    "print(is_fraction('1/0'))\n",
    "print(is_fraction('-54/9'))\n",
    "print(is_fraction('-/56'))\n",
    "print(is_fraction('--1/2'))\n",
    "print(is_fraction('54365486548645/472342935648904709456'))\n",
    "print(is_fraction('1000/00001'))\n",
    "print(is_fraction('-1000/00001'))\n",
    "print(is_fraction('1000/10'))"
   ]
  },
  {
   "cell_type": "markdown",
   "metadata": {},
   "source": [
    "Функция intersperse()\n"
   ]
  },
  {
   "cell_type": "code",
   "execution_count": 2,
   "metadata": {},
   "outputs": [
    {
     "name": "stdout",
     "output_type": "stream",
     "text": [
      "B + e + e + g + e + e + k\n"
     ]
    }
   ],
   "source": [
    "def intersperse(iterable, delimeter):\n",
    "    if not iterable:\n",
    "        return\n",
    "    lll = list(iterable)\n",
    "    l = []\n",
    "    for i, k in enumerate(lll):\n",
    "        l.append(k)\n",
    "        if i < len(lll) - 1:\n",
    "            l.append(delimeter)\n",
    "        \n",
    "    for k in l:\n",
    "        yield k\n",
    "        \n",
    "\n",
    "\n",
    "# print(*intersperse([1, 2, 3], 0))\n",
    "\n",
    "# inter = intersperse('beegeek', '!')\n",
    "# print(next(inter))\n",
    "# print(next(inter))\n",
    "# print(*inter)\n",
    "\n",
    "iterable = iter('Beegeek')\n",
    "print(*intersperse(iterable, '+'))"
   ]
  },
  {
   "cell_type": "markdown",
   "metadata": {},
   "source": [
    "Аннуитет"
   ]
  },
  {
   "cell_type": "code",
   "execution_count": 5,
   "metadata": {},
   "outputs": [
    {
     "name": "stdout",
     "output_type": "stream",
     "text": [
      "132000\n",
      "145200\n",
      "159720\n"
     ]
    }
   ],
   "source": [
    "def annual_return(start, percent, years):\n",
    "    for i in range(years):\n",
    "        start += start * ( percent) / 100\n",
    "        yield start\n",
    "\n",
    "for value in annual_return(120000, 10, 3):\n",
    "    print(round(value))"
   ]
  },
  {
   "cell_type": "markdown",
   "metadata": {},
   "source": [
    "Функция pluck()\n"
   ]
  },
  {
   "cell_type": "code",
   "execution_count": 7,
   "metadata": {},
   "outputs": [
    {
     "name": "stdout",
     "output_type": "stream",
     "text": [
      "40\n",
      "5\n",
      "0\n"
     ]
    }
   ],
   "source": [
    "def pluck(data: dict, path, default=None):\n",
    "    d = data\n",
    "    for key in path.split('.'):\n",
    "        val = d.get(key, default)\n",
    "        if not val:\n",
    "            break\n",
    "        else:\n",
    "            d = val\n",
    "    return val\n",
    "\n",
    "d = {'a': {'b': 5, 'z': 20}, 'c': {'d': 3}, 'x': 40}\n",
    "\n",
    "print(pluck(d, 'x'))\n",
    "\n",
    "d = {'a': {'b': 5, 'z': 20}, 'c': {'d': 3}, 'x': 40}\n",
    "\n",
    "print(pluck(d, 'a.b'))\n",
    "\n",
    "d = {'a': {'b': 5, 'z': 20}, 'c': {'d': 3}, 'x': 40}\n",
    "\n",
    "print(pluck(d, 'z', 0))"
   ]
  },
  {
   "cell_type": "markdown",
   "metadata": {},
   "source": [
    "Декоратор @recviz 🌶️🌶️"
   ]
  },
  {
   "cell_type": "code",
   "execution_count": 33,
   "metadata": {},
   "outputs": [
    {
     "name": "stdout",
     "output_type": "stream",
     "text": [
      "-> add(1, b=2)\n",
      "<- 3\n",
      "-> add('a', b='b', c='c', d=3, e=True)\n",
      "<- 'abcabcabcabc'\n",
      "-> fib(4)\n",
      "    -> fib(3)\n",
      "        -> fib(2)\n",
      "        <- 1\n",
      "        -> fib(1)\n",
      "        <- 1\n",
      "    <- 2\n",
      "    -> fib(2)\n",
      "    <- 1\n",
      "<- 3\n"
     ]
    },
    {
     "data": {
      "text/plain": [
       "3"
      ]
     },
     "execution_count": 33,
     "metadata": {},
     "output_type": "execute_result"
    }
   ],
   "source": [
    "import inspect\n",
    "from functools import wraps\n",
    "def recviz(func):\n",
    "    num_of_ent = len(inspect.getouterframes(inspect.currentframe()))\n",
    "    @wraps(func)\n",
    "    def wrapper(*args, **kwargs):\n",
    "        num_of_recur = int((len(inspect.getouterframes(inspect.currentframe())) - num_of_ent) / 2) * 4\n",
    "        kw = tuple(i if type(i) is not str else f\"'{i}'\" for i in args) + tuple(f'{k}={v}' if type(v) is not str else f\"{k}='{v}'\" for k, v in kwargs.items())\n",
    "        print(f'{num_of_recur * \" \"}-> {func.__name__}({\", \".join(map(str, kw))})')\n",
    "        result = func(*args, **kwargs)\n",
    "        if type(result) is str:\n",
    "            result = f\"'{result}'\"\n",
    "        print(f'{num_of_recur * \" \"}<- {result}')\n",
    "        return result\n",
    "    return wrapper\n",
    "\n",
    "\n",
    "@recviz\n",
    "def add(a, b):\n",
    "    return a + b\n",
    "\n",
    "add(1, b=2)\n",
    "\n",
    "@recviz\n",
    "def add(a, b, c, d, e):\n",
    "    return (a + b + c) * (d + e)\n",
    "\n",
    "add('a', b='b', c='c', d=3, e=True)\n",
    "\n",
    "@recviz\n",
    "def fib(n):\n",
    "    if n <= 2:\n",
    "        return 1\n",
    "    else:\n",
    "        return fib(n - 1) + fib(n - 2)\n",
    "        \n",
    "fib(4)"
   ]
  },
  {
   "cell_type": "code",
   "execution_count": 19,
   "metadata": {},
   "outputs": [
    {
     "data": {
      "text/plain": [
       "(1, 5, 3, 6)"
      ]
     },
     "execution_count": 19,
     "metadata": {},
     "output_type": "execute_result"
    }
   ],
   "source": [
    "(1, 5) + (3, 6)"
   ]
  },
  {
   "cell_type": "code",
   "execution_count": 3,
   "metadata": {},
   "outputs": [
    {
     "ename": "TypeError",
     "evalue": "ElectricCar.__init__() takes 1 positional argument but 2 were given",
     "output_type": "error",
     "traceback": [
      "\u001b[1;31m---------------------------------------------------------------------------\u001b[0m",
      "\u001b[1;31mTypeError\u001b[0m                                 Traceback (most recent call last)",
      "Cell \u001b[1;32mIn[3], line 6\u001b[0m\n\u001b[0;32m      2\u001b[0m     \u001b[38;5;28;01mdef\u001b[39;00m \u001b[38;5;21m__init__\u001b[39m(color):\n\u001b[0;32m      3\u001b[0m         \u001b[38;5;28mself\u001b[39m\u001b[38;5;241m.\u001b[39mcolor \u001b[38;5;241m=\u001b[39m color\n\u001b[1;32m----> 6\u001b[0m car1 \u001b[38;5;241m=\u001b[39m \u001b[43mElectricCar\u001b[49m\u001b[43m(\u001b[49m\u001b[38;5;124;43m'\u001b[39;49m\u001b[38;5;124;43mblack\u001b[39;49m\u001b[38;5;124;43m'\u001b[39;49m\u001b[43m)\u001b[49m\n\u001b[0;32m      7\u001b[0m car2 \u001b[38;5;241m=\u001b[39m ElectricCar(\u001b[38;5;124m'\u001b[39m\u001b[38;5;124myellow\u001b[39m\u001b[38;5;124m'\u001b[39m)\n\u001b[0;32m      9\u001b[0m \u001b[38;5;28mprint\u001b[39m(car1\u001b[38;5;241m.\u001b[39mcolor)\n",
      "\u001b[1;31mTypeError\u001b[0m: ElectricCar.__init__() takes 1 positional argument but 2 were given"
     ]
    }
   ],
   "source": [
    "class ElectricCar:\n",
    "    def __init__(color):\n",
    "        self.color = color\n",
    "\n",
    "\n",
    "car1 = ElectricCar('black')\n",
    "car2 = ElectricCar('yellow')\n",
    "\n",
    "print(car1.color)\n",
    "print(car2.color)"
   ]
  },
  {
   "cell_type": "markdown",
   "metadata": {},
   "source": []
  },
  {
   "cell_type": "code",
   "execution_count": 8,
   "metadata": {},
   "outputs": [
    {
     "ename": "NameError",
     "evalue": "name 'Circle' is not defined",
     "output_type": "error",
     "traceback": [
      "\u001b[1;31m---------------------------------------------------------------------------\u001b[0m",
      "\u001b[1;31mNameError\u001b[0m                                 Traceback (most recent call last)",
      "Cell \u001b[1;32mIn[8], line 7\u001b[0m\n\u001b[0;32m      4\u001b[0m     \u001b[38;5;28;01mdef\u001b[39;00m \u001b[38;5;21mshoot\u001b[39m(\u001b[38;5;28mself\u001b[39m):\n\u001b[0;32m      5\u001b[0m         \u001b[38;5;28mprint\u001b[39m(\u001b[38;5;124m'\u001b[39m\u001b[38;5;124mpif\u001b[39m\u001b[38;5;124m'\u001b[39m)\n\u001b[1;32m----> 7\u001b[0m circle \u001b[38;5;241m=\u001b[39m \u001b[43mCircle\u001b[49m(\u001b[38;5;241m5\u001b[39m)\n\u001b[0;32m      9\u001b[0m \u001b[38;5;28mprint\u001b[39m(circle\u001b[38;5;241m.\u001b[39mradius)\n\u001b[0;32m     10\u001b[0m \u001b[38;5;28mprint\u001b[39m(circle\u001b[38;5;241m.\u001b[39mdiameter)\n",
      "\u001b[1;31mNameError\u001b[0m: name 'Circle' is not defined"
     ]
    }
   ],
   "source": [
    "class Gun:\n",
    "    pass\n",
    "\n",
    "    def shoot(self):\n",
    "        print('pif')\n",
    "\n",
    "gun = Gun()\n",
    "\n",
    "gun.shoot()\n",
    "gun.shoot()\n",
    "gun.shoot()"
   ]
  },
  {
   "cell_type": "code",
   "execution_count": 9,
   "metadata": {},
   "outputs": [
    {
     "name": "stdout",
     "output_type": "stream",
     "text": [
      "5\n",
      "10\n",
      "78.53981633974483\n"
     ]
    }
   ],
   "source": [
    "from math import pi\n",
    "\n",
    "class Circle:\n",
    "    def __init__(self, radius):\n",
    "        self.radius = radius\n",
    "        self.diameter = self.radius * 2\n",
    "        self.area = pi * self.radius ** 2\n",
    "        \n",
    "        \n",
    "\n",
    "circle = Circle(5)\n",
    "\n",
    "print(circle.radius)\n",
    "print(circle.diameter)\n",
    "print(circle.area)"
   ]
  },
  {
   "cell_type": "code",
   "execution_count": null,
   "metadata": {},
   "outputs": [],
   "source": [
    "# класс Bee\n",
    "\n",
    "class Bee:\n",
    "    def __init__(self, x=0, y=0) -> None:\n",
    "        self.x = x\n",
    "        self.y = y\n",
    "        \n",
    "    def move_down(self, n):\n",
    "        self.y -= n\n",
    "        \n",
    "    def move_up(self, n):\n",
    "        self.y += n\n",
    "        \n",
    "    def move_left(self, n):\n",
    "        self.x -= n\n",
    "        \n",
    "    def move_right(self, n):\n",
    "        self.x += n\n",
    "        "
   ]
  },
  {
   "cell_type": "markdown",
   "metadata": {},
   "source": [
    "Класс Gun\n"
   ]
  },
  {
   "cell_type": "code",
   "execution_count": 2,
   "metadata": {},
   "outputs": [
    {
     "name": "stdout",
     "output_type": "stream",
     "text": [
      "pif\n",
      "paf\n",
      "pif\n",
      "paf\n"
     ]
    }
   ],
   "source": [
    "class Gun:\n",
    "    def __init__(self) -> None:\n",
    "        self.shooting = 1\n",
    "    \n",
    "    def shoot(self):\n",
    "        if self.shooting % 2:\n",
    "            print('pif')\n",
    "        else:\n",
    "            print('paf')\n",
    "        self.shooting += 1\n",
    "            \n",
    "            \n",
    "            \n",
    "gun = Gun()\n",
    "\n",
    "gun.shoot()\n",
    "gun.shoot()\n",
    "gun.shoot()\n",
    "gun.shoot()"
   ]
  },
  {
   "cell_type": "code",
   "execution_count": 3,
   "metadata": {},
   "outputs": [
    {
     "name": "stdout",
     "output_type": "stream",
     "text": [
      "0\n",
      "pif\n",
      "1\n",
      "paf\n",
      "2\n"
     ]
    }
   ],
   "source": [
    "class Gun:\n",
    "    def __init__(self) -> None:\n",
    "        self.shots = 0\n",
    "        \n",
    "    def shots_count(self):\n",
    "        return self.shots\n",
    "    \n",
    "    def shots_reset(self):\n",
    "        self.shots = 0\n",
    "    \n",
    "    def shoot(self):\n",
    "        self.shots += 1\n",
    "        if self.shots % 2:\n",
    "            print('pif')\n",
    "        else:\n",
    "            print('paf')\n",
    "            \n",
    "gun = Gun()\n",
    "\n",
    "print(gun.shots_count())\n",
    "gun.shoot()\n",
    "print(gun.shots_count())\n",
    "gun.shoot()\n",
    "print(gun.shots_count())"
   ]
  },
  {
   "cell_type": "markdown",
   "metadata": {},
   "source": [
    "Класс Scales\n"
   ]
  },
  {
   "cell_type": "code",
   "execution_count": 5,
   "metadata": {},
   "outputs": [
    {
     "name": "stdout",
     "output_type": "stream",
     "text": [
      "Весы в равновесии\n",
      "Левая чаша тяжелее\n"
     ]
    }
   ],
   "source": [
    "class Scales:\n",
    "    def __init__(self) -> None:\n",
    "        self.left = 0\n",
    "        self.right = 0\n",
    "        \n",
    "    def add_right(self, n):\n",
    "        self.right += n\n",
    "    \n",
    "    def add_left(self, n):\n",
    "        self.left += n\n",
    "        \n",
    "    def get_result(self):\n",
    "        if self.right == self.left:\n",
    "            return 'Весы в равновесии'\n",
    "        elif self.right > self.left:\n",
    "            return 'Правая чаша тяжелее'\n",
    "        elif self.right < self.left:\n",
    "            return 'Левая чаша тяжелее'\n",
    "        \n",
    "scales = Scales()\n",
    "\n",
    "scales.add_right(1)\n",
    "scales.add_right(1)\n",
    "scales.add_left(2)\n",
    "\n",
    "print(scales.get_result())       \n",
    "scales = Scales()\n",
    "\n",
    "scales.add_right(1)\n",
    "scales.add_left(2)\n",
    "\n",
    "print(scales.get_result()) "
   ]
  },
  {
   "cell_type": "markdown",
   "metadata": {},
   "source": [
    "class vector\n"
   ]
  },
  {
   "cell_type": "code",
   "execution_count": 10,
   "metadata": {},
   "outputs": [
    {
     "name": "stdout",
     "output_type": "stream",
     "text": [
      "0 0\n",
      "0.0\n",
      "3 4\n",
      "5.0\n"
     ]
    }
   ],
   "source": [
    "class Vector:\n",
    "    def __init__(self, x=0, y=0) -> None:\n",
    "        self.x = x\n",
    "        self.y = y\n",
    "    \n",
    "    def abs(self):\n",
    "        return (self.x**2 + self.y**2)**(1/2)\n",
    "    \n",
    "vector = Vector()\n",
    "\n",
    "print(vector.x, vector.y)\n",
    "print(vector.abs())\n",
    "\n",
    "vector = Vector(3, 4)\n",
    "\n",
    "print(vector.x, vector.y)\n",
    "print(vector.abs())"
   ]
  },
  {
   "cell_type": "markdown",
   "metadata": {},
   "source": [
    "Класс Numbers\n"
   ]
  },
  {
   "cell_type": "code",
   "execution_count": 13,
   "metadata": {},
   "outputs": [
    {
     "name": "stdout",
     "output_type": "stream",
     "text": [
      "[2, 4]\n",
      "[3, 1]\n"
     ]
    }
   ],
   "source": [
    "class Numbers:\n",
    "    def __init__(self) -> None:\n",
    "        self.nums = []\n",
    "        \n",
    "    def add_number(self, n):\n",
    "        self.nums.append(n)\n",
    "        \n",
    "    def get_even(self):\n",
    "        return [i for i in self.nums if not i % 2]\n",
    "    \n",
    "    def get_odd(self):\n",
    "        return [i for i in self.nums if i % 2]\n",
    "    \n",
    "numbers = Numbers()\n",
    "\n",
    "numbers.add_number(3)\n",
    "numbers.add_number(2)\n",
    "numbers.add_number(1)\n",
    "numbers.add_number(4)\n",
    "\n",
    "print(numbers.get_even())\n",
    "print(numbers.get_odd())"
   ]
  },
  {
   "cell_type": "markdown",
   "metadata": {},
   "source": [
    "Класс TextHandler\n"
   ]
  },
  {
   "cell_type": "code",
   "execution_count": 31,
   "metadata": {},
   "outputs": [
    {
     "name": "stdout",
     "output_type": "stream",
     "text": [
      "['do', 'be', 'be']\n",
      "['better']\n"
     ]
    }
   ],
   "source": [
    "class TextHandler:\n",
    "    def __init__(self) -> None:\n",
    "        self.text = []\n",
    "        \n",
    "    def add_words(self, w):\n",
    "        self.text += w.split()\n",
    "        \n",
    "    def get_shortest_words(self):\n",
    "        return [i for i in filter(lambda x: len(x) == len(min(self.text, key=len)), self.text)]\n",
    "    \n",
    "    def get_longest_words(self):\n",
    "        return [i for i in filter(lambda x: len(x) == len(max(self.text, key=len)), self.text)]\n",
    "    \n",
    "    \n",
    "    \n",
    "texthandler = TextHandler()\n",
    "\n",
    "texthandler.add_words('do not be sorry')\n",
    "texthandler.add_words('be')\n",
    "texthandler.add_words('better')\n",
    "\n",
    "print(texthandler.get_shortest_words())\n",
    "print(texthandler.get_longest_words())"
   ]
  },
  {
   "cell_type": "markdown",
   "metadata": {},
   "source": [
    "Класс Todo\n"
   ]
  },
  {
   "cell_type": "code",
   "execution_count": 4,
   "metadata": {},
   "outputs": [
    {
     "name": "stdout",
     "output_type": "stream",
     "text": [
      "['Сделать картинки']\n",
      "['Ответить на вопросы', 'Дописать конспект']\n",
      "['Дописать хуй']\n"
     ]
    }
   ],
   "source": [
    "class Todo:\n",
    "    def __init__(self) -> None:\n",
    "        self.things = []\n",
    "        \n",
    "    def add(self, thing, priority):\n",
    "        self.things.append((thing, priority))\n",
    "    \n",
    "    def get_by_priority(self, n):\n",
    "        return [i[0] for i in self.things if i[1] == n]\n",
    "    \n",
    "    def get_high_priority(self):\n",
    "        return [i[0] for i in filter(lambda x: x[1] == max(k[1] for k in self.things), self.things)]\n",
    "    \n",
    "    def get_low_priority(self):\n",
    "        return [i[0] for i in filter(lambda x: x[1] == min(k[1] for k in self.things), self.things)]\n",
    "    \n",
    "    \n",
    "todo = Todo()\n",
    "\n",
    "todo.add('Ответить на вопросы', 5)\n",
    "todo.add('Сделать картинки', 1)\n",
    "todo.add('Доделать задачи', 4)\n",
    "todo.add('Дописать конспект', 5)\n",
    "todo.add('Дописать хуй', 3)\n",
    "\n",
    "print(todo.get_low_priority())\n",
    "print(todo.get_high_priority())\n",
    "print(todo.get_by_priority(3))"
   ]
  },
  {
   "cell_type": "markdown",
   "metadata": {},
   "source": [
    "class Postman"
   ]
  },
  {
   "cell_type": "code",
   "execution_count": 13,
   "metadata": {},
   "outputs": [
    {
     "name": "stdout",
     "output_type": "stream",
     "text": [
      "[151, 90]\n",
      "[74, 75]\n"
     ]
    }
   ],
   "source": [
    "class Postman:\n",
    "    def __init__(self) -> None:\n",
    "        self.delivery_data = []\n",
    "        \n",
    "    def add_delivery(self, street, house, flat):\n",
    "        self.delivery_data.append((street, house, flat))\n",
    "    \n",
    "    def get_houses_for_street(self, street):\n",
    "        s = [i[1] for i in self.delivery_data if i[0] == street]\n",
    "        return list(dict.fromkeys(s).keys())\n",
    "    \n",
    "    def get_flats_for_house(self, street, house):\n",
    "        s = [i[2] for i in self.delivery_data if (i[0], i[1]) == (street, house)]\n",
    "        return list(dict.fromkeys(s).keys())\n",
    "    \n",
    "    \n",
    "postman = Postman()\n",
    "\n",
    "postman.add_delivery('Советская', 151, 74)\n",
    "postman.add_delivery('Советская', 151, 75)\n",
    "postman.add_delivery('Советская', 90, 2)\n",
    "postman.add_delivery('Советская', 151, 74)\n",
    "\n",
    "print(postman.get_houses_for_street('Советская'))\n",
    "print(postman.get_flats_for_house('Советская', 151))"
   ]
  },
  {
   "cell_type": "markdown",
   "metadata": {},
   "source": [
    "Класс Wordplay\n"
   ]
  },
  {
   "cell_type": "code",
   "execution_count": 23,
   "metadata": {},
   "outputs": [
    {
     "name": "stdout",
     "output_type": "stream",
     "text": [
      "['timur', 'geek', 'python', 'stepik']\n"
     ]
    }
   ],
   "source": [
    "class Wordplay:\n",
    "    def __init__(self, words=[]):\n",
    "        self.words = words[:]\n",
    "        \n",
    "    def add_word(self, word):\n",
    "        if word not in self.words:\n",
    "            self.words.append(word)\n",
    "    \n",
    "    def words_with_length(self, n):\n",
    "        return [i for i in self.words if len(i) == n]\n",
    "    \n",
    "    def only(self, *args):\n",
    "        l = []\n",
    "        for i in self.words:\n",
    "            for k in args:\n",
    "                i = i.replace(k, '')\n",
    "            l.append(i)\n",
    "        return [i for i in self.words if not l[self.words.index(i)]]\n",
    "    \n",
    "    def avoid(self, *args):\n",
    "        l = []\n",
    "        for i in self.words:\n",
    "            for k in args:\n",
    "                i = i.replace(k, '')\n",
    "            l.append(i)\n",
    "        return [i for i in self.words if i == l[self.words.index(i)]]\n",
    "    \n",
    "    \n",
    "wordplay = Wordplay(['a', 'arthur', 'timur', 'bee', 'geek', 'python', 'stepik'])\n",
    "\n",
    "print(wordplay.avoid('a', 'b', 'c'))"
   ]
  },
  {
   "cell_type": "markdown",
   "metadata": {},
   "source": [
    "Класс Knight ♞\n"
   ]
  },
  {
   "cell_type": "code",
   "execution_count": 26,
   "metadata": {},
   "outputs": [
    {
     "name": "stdout",
     "output_type": "stream",
     "text": [
      "........\n",
      "...*.*..\n",
      "..*...*.\n",
      "....N...\n",
      "..*...*.\n",
      "...*.*..\n",
      "........\n",
      "........\n",
      "\n",
      "........\n",
      "........\n",
      "........\n",
      "..*.*...\n",
      ".*...*..\n",
      "...N....\n",
      ".*...*..\n",
      "..*.*...\n"
     ]
    }
   ],
   "source": [
    "class Knight:\n",
    "    def __init__(self, horizontal, vertical, color):\n",
    "        self.horizontal = horizontal\n",
    "        self.vertical = vertical\n",
    "        self.color = color\n",
    "        \n",
    "    def get_char(self):\n",
    "        return 'N'\n",
    "    \n",
    "    def can_move(self, horizontal, vertical):\n",
    "        cm = tuple((chr(ord(self.horizontal) + i), self.vertical + k) for i, k in (\n",
    "            (-2, 1),\n",
    "            (-1, 2),\n",
    "            (1, 2),\n",
    "            (2, 1),\n",
    "            (-2, -1),\n",
    "            (-1, -2),\n",
    "            (1, -2),\n",
    "            (2, -1),\n",
    "            ) if all((97 <= ord(self.horizontal) + i <= 104, 1 <= self.vertical + k <= 8)))\n",
    "        return (horizontal, vertical) in cm\n",
    "    \n",
    "    def move_to(self, horizontal, vertical):\n",
    "        if self.can_move(horizontal, vertical):\n",
    "            self.horizontal = horizontal\n",
    "            self.vertical = vertical\n",
    "    \n",
    "    def draw_board(self):\n",
    "        for v in range(8, 0, -1):\n",
    "            for h in range(97, 105):\n",
    "                if all((chr(h) == self.horizontal, v == self.vertical)):\n",
    "                    print(self.get_char(), end='')\n",
    "                elif self.can_move(chr(h), v):\n",
    "                    print('*', end='')\n",
    "                else:\n",
    "                    print('.', end='')\n",
    "            print('')\n",
    "    \n",
    "knight = Knight('e', 5, 'black')\n",
    "\n",
    "knight.draw_board()\n",
    "knight.move_to('d', 3)\n",
    "print()\n",
    "knight.draw_board()"
   ]
  },
  {
   "cell_type": "markdown",
   "metadata": {},
   "source": [
    "Класс Circle\n"
   ]
  },
  {
   "cell_type": "code",
   "execution_count": 27,
   "metadata": {},
   "outputs": [
    {
     "name": "stdout",
     "output_type": "stream",
     "text": [
      "1\n",
      "2\n",
      "3\n"
     ]
    }
   ],
   "source": [
    "from math import pi\n",
    "class Circle:\n",
    "    def __init__(self, radius):\n",
    "        self._radius = radius\n",
    "        self._diameter = radius * 2\n",
    "        self._area = pi * radius ** 2\n",
    "        \n",
    "    def get_radius(self):\n",
    "        return self._radius\n",
    "    \n",
    "    def get_diameter(self):\n",
    "        return self._diameter\n",
    "    \n",
    "    def get_area(self):\n",
    "        return self._area\n",
    "    \n",
    "circle = Circle(1)\n",
    "\n",
    "print(circle.get_radius())\n",
    "print(circle.get_diameter())\n",
    "print(round(circle.get_area()))"
   ]
  },
  {
   "cell_type": "markdown",
   "metadata": {},
   "source": [
    "class BankAccount"
   ]
  },
  {
   "cell_type": "code",
   "execution_count": 29,
   "metadata": {},
   "outputs": [
    {
     "name": "stdout",
     "output_type": "stream",
     "text": [
      "50\n",
      "250\n",
      "На счете недостаточно средств\n"
     ]
    }
   ],
   "source": [
    "class BankAccount:\n",
    "    def __init__(self, balance=0):\n",
    "        self._balance = balance\n",
    "        \n",
    "    def get_balance(self):\n",
    "        return self._balance\n",
    "    \n",
    "    def deposit(self, amount):\n",
    "        self._balance += amount\n",
    "        \n",
    "    def withdraw(self, amount):\n",
    "        if amount > self._balance:\n",
    "            raise ValueError('На счете недостаточно средств')\n",
    "        self._balance -= amount\n",
    "        \n",
    "    def transfer(self, account, amount):\n",
    "        self.withdraw(amount)\n",
    "        account.deposit(amount)\n",
    "        \n",
    "        \n",
    "account1 = BankAccount(100)\n",
    "account2 = BankAccount(200)\n",
    "\n",
    "account1.transfer(account2, 50)\n",
    "print(account1.get_balance())\n",
    "print(account2.get_balance())\n",
    "\n",
    "account = BankAccount(100)\n",
    "\n",
    "try:\n",
    "    account.withdraw(150)\n",
    "except ValueError as e:\n",
    "    print(e)"
   ]
  },
  {
   "cell_type": "markdown",
   "metadata": {},
   "source": [
    " Класс User"
   ]
  },
  {
   "cell_type": "code",
   "execution_count": 45,
   "metadata": {},
   "outputs": [
    {
     "name": "stdout",
     "output_type": "stream",
     "text": [
      "Тимур\n",
      "30\n"
     ]
    }
   ],
   "source": [
    "class User:\n",
    "    def __init__(self, name, age):\n",
    "        self.set_name(name)\n",
    "        self.set_age(age)\n",
    "        \n",
    "    def get_name(self):\n",
    "        return self._name\n",
    "    \n",
    "    def set_name(self, new_name):\n",
    "        if isinstance(new_name, str) and new_name.isalpha():\n",
    "            self._name = new_name\n",
    "        else:\n",
    "            raise ValueError('Некорректное имя')\n",
    "        \n",
    "    def get_age(self):\n",
    "        return self._age\n",
    "    \n",
    "    def set_age(self, new_age):\n",
    "        if isinstance(new_age, (float, int)) and new_age in range(0, 111):\n",
    "            self._age = new_age\n",
    "        else:\n",
    "            raise ValueError('Некорректный возраст')\n",
    "            \n",
    "        \n",
    "        \n",
    "user = User('Гвидо', 30)\n",
    "\n",
    "user.set_name('Тимур')\n",
    "user.set_age(30)\n",
    "\n",
    "print(user.get_name())\n",
    "print(user.get_age())"
   ]
  },
  {
   "cell_type": "markdown",
   "metadata": {},
   "source": [
    "class Rectangle"
   ]
  },
  {
   "cell_type": "code",
   "execution_count": 52,
   "metadata": {},
   "outputs": [
    {
     "name": "stdout",
     "output_type": "stream",
     "text": [
      "4\n",
      "5\n",
      "18\n",
      "20\n"
     ]
    }
   ],
   "source": [
    "class Rectangle:\n",
    "    def __init__(self, length, width):\n",
    "        self.length = length\n",
    "        self.width = width\n",
    "        self.show_perimeter()\n",
    "        self.show_area()\n",
    "        \n",
    "    def show_area(self):\n",
    "        self._area = self.length * self.width\n",
    "        return self._area\n",
    "        \n",
    "    def show_perimeter(self):\n",
    "        self._perimeter = self.length * 2 + self.width * 2\n",
    "        return self._perimeter\n",
    "            \n",
    "    area = property(show_area)\n",
    "    perimeter = property(show_perimeter)\n",
    "    \n",
    "rectangle = Rectangle(4, 5)\n",
    "\n",
    "print(rectangle.length)\n",
    "print(rectangle.width)\n",
    "print(rectangle.perimeter)\n",
    "print(rectangle.area)"
   ]
  },
  {
   "cell_type": "markdown",
   "metadata": {},
   "source": [
    "class HourClock"
   ]
  },
  {
   "cell_type": "code",
   "execution_count": 59,
   "metadata": {},
   "outputs": [
    {
     "name": "stdout",
     "output_type": "stream",
     "text": [
      "Некорректное время\n"
     ]
    }
   ],
   "source": [
    "class HourClock:\n",
    "    def __init__(self, hours) -> None:\n",
    "        self.hours = hours\n",
    "        \n",
    "    def set_hours(self, hours):\n",
    "        if not isinstance(hours, int) or hours not in range(1, 13):\n",
    "            raise ValueError('Некорректное время')\n",
    "        self._hours = hours\n",
    "        \n",
    "    def get_hours(self):\n",
    "        return self._hours\n",
    "    \n",
    "    hours = property(get_hours, set_hours)\n",
    "    \n",
    "\n",
    "\n",
    "time = HourClock(7)\n",
    "try:\n",
    "    time.hours = 15\n",
    "except ValueError as e:\n",
    "    print(e)"
   ]
  },
  {
   "cell_type": "markdown",
   "metadata": {},
   "source": [
    "class Person"
   ]
  },
  {
   "cell_type": "code",
   "execution_count": 4,
   "metadata": {},
   "outputs": [
    {
     "name": "stdout",
     "output_type": "stream",
     "text": [
      "Меган\n",
      "Фокс\n",
      "Меган Фокс\n",
      "Хуй\n"
     ]
    }
   ],
   "source": [
    "class Person:\n",
    "    def __init__(self, name, surname):\n",
    "        self.name = name\n",
    "        self.surname = surname\n",
    "        # self.fullname = f'{self.name} {self.surname}'\n",
    "        \n",
    "    def get_fullname(self):\n",
    "        return f'{self.name} {self.surname}'\n",
    "    \n",
    "    def set_fullname(self, fullname):\n",
    "        self.name, self.surname = fullname.split()\n",
    "        \n",
    "    def set_name(self, name):\n",
    "        self._name = name\n",
    "        \n",
    "    def get_name(self):\n",
    "        return self._name\n",
    "    \n",
    "    def set_surname(self, surname):\n",
    "        self._surname = surname\n",
    "        \n",
    "    def get_surname(self):\n",
    "        return self._surname\n",
    "    \n",
    "    name = property(get_name, set_name)\n",
    "    surname = property(get_surname, set_surname)\n",
    "    fullname = property(get_fullname, set_fullname)\n",
    "    \n",
    "person = Person('Меган', 'Фокс')\n",
    "\n",
    "print(person.name)\n",
    "print(person.surname)\n",
    "print(person.fullname)\n",
    "person.fullname = 'Хуй хуевич'\n",
    "print(person.name)"
   ]
  },
  {
   "cell_type": "code",
   "execution_count": 8,
   "metadata": {},
   "outputs": [
    {
     "name": "stdout",
     "output_type": "stream",
     "text": [
      "Меган\n",
      "Фокс\n",
      "Меган Фокс\n",
      "Хуй\n"
     ]
    }
   ],
   "source": [
    "class Person:\n",
    "    def __init__(self, name, surname):\n",
    "        self.name = name\n",
    "        self.surname = surname\n",
    "        \n",
    "    @property\n",
    "    def fullname(self):\n",
    "        return f'{self.name} {self.surname}'\n",
    "    \n",
    "    @fullname.setter\n",
    "    def fullname(self, fullname):\n",
    "        self.name, self.surname = fullname.split()\n",
    "        \n",
    "    \n",
    "person = Person('Меган', 'Фокс')\n",
    "\n",
    "print(person.name)\n",
    "print(person.surname)\n",
    "print(person.fullname)\n",
    "person.fullname = 'Хуй хуевич'\n",
    "print(person.name)"
   ]
  },
  {
   "cell_type": "code",
   "execution_count": 10,
   "metadata": {},
   "outputs": [
    {
     "name": "stdout",
     "output_type": "stream",
     "text": [
      "hannymad\n",
      "4696\n"
     ]
    }
   ],
   "source": [
    "def hash_function(password):\n",
    "    hash_value = 0\n",
    "    for char, index in zip(password, range(len(password))):\n",
    "        hash_value += ord(char) * index\n",
    "    return hash_value % 10**9\n",
    "\n",
    "class Account:\n",
    "    def __init__(self, login, password):\n",
    "        self._login = login\n",
    "        self.password = password\n",
    "        \n",
    "    @property\n",
    "    def login(self):\n",
    "        return self._login\n",
    "    \n",
    "    @login.setter\n",
    "    def login(self, *args):\n",
    "        raise AttributeError('Изменение логина невозможно')\n",
    "    \n",
    "    @property\n",
    "    def password(self):\n",
    "        return self._password\n",
    "    \n",
    "    @password.setter\n",
    "    def password(self, password):\n",
    "        self._password = hash_function(password)\n",
    "        \n",
    "        \n",
    "        \n",
    "account = Account('hannymad', 'cakeisalie')\n",
    "\n",
    "print(account.login)\n",
    "print(account.password)"
   ]
  },
  {
   "cell_type": "markdown",
   "metadata": {},
   "source": [
    "квадратный трехчлен"
   ]
  },
  {
   "cell_type": "code",
   "execution_count": 11,
   "metadata": {},
   "outputs": [
    {
     "name": "stdout",
     "output_type": "stream",
     "text": [
      "0.0\n",
      "0.0\n",
      "5x^2 + 0x + 0\n"
     ]
    }
   ],
   "source": [
    "from math import sqrt\n",
    "\n",
    "class QuadraticPolynomial:\n",
    "    def __init__(self, a, b, c):\n",
    "        self.a = a\n",
    "        self.b = b\n",
    "        self.c = c\n",
    "    \n",
    "    @property\n",
    "    def x1(self):\n",
    "        d = self.b**2 - 4 * self.a * self.c\n",
    "        if d >= 0:\n",
    "            return (-self.b - sqrt(d)) / (2 * self.a)\n",
    "        return None\n",
    "        \n",
    "    @property\n",
    "    def x2(self):\n",
    "        d = self.b**2 - 4 * self.a * self.c\n",
    "        if d >= 0:\n",
    "            return (-self.b + sqrt(d)) / (2 * self.a)\n",
    "        return None\n",
    "    \n",
    "    @property\n",
    "    def view(self):\n",
    "        return f'{self.a}x^2 + {self.b}x + {self.c}'.replace('+ -', '- ')\n",
    "    \n",
    "    @property\n",
    "    def coefficients(self):\n",
    "        return (self.a, self.b, self.c)\n",
    "    \n",
    "    @coefficients.setter\n",
    "    def coefficients(self, s: tuple):\n",
    "        self.a, self.b, self.c = s\n",
    "        \n",
    "        \n",
    "polynom = QuadraticPolynomial(1, 2, -3)\n",
    "\n",
    "polynom.coefficients = (5, 0, 0)\n",
    "print(polynom.x1)\n",
    "print(polynom.x2)\n",
    "print(polynom.view)\n",
    "\n"
   ]
  },
  {
   "cell_type": "markdown",
   "metadata": {},
   "source": [
    "class color"
   ]
  },
  {
   "cell_type": "code",
   "execution_count": 17,
   "metadata": {},
   "outputs": [
    {
     "name": "stdout",
     "output_type": "stream",
     "text": [
      "0000FF\n",
      "0\n",
      "0\n",
      "255\n",
      "A782E3\n",
      "167\n",
      "130\n",
      "227\n"
     ]
    }
   ],
   "source": [
    "class Color:\n",
    "    def __init__(self, hexcode):\n",
    "        self.hexcode = hexcode\n",
    "        \n",
    "    @property\n",
    "    def hexcode(self):\n",
    "        return self._hexcode\n",
    "    \n",
    "    @hexcode.setter\n",
    "    def hexcode(self, hexcode):\n",
    "        self._hexcode = hexcode\n",
    "        self.r = int(hexcode[:2], 16)\n",
    "        self.g = int(hexcode[2:4], 16)\n",
    "        self.b = int(hexcode[4:], 16)\n",
    "        \n",
    "        \n",
    "color = Color('0000FF')\n",
    "\n",
    "print(color.hexcode)\n",
    "print(color.r)\n",
    "print(color.g)\n",
    "print(color.b)\n",
    "\n",
    "color = Color('0000FF')\n",
    "\n",
    "color.hexcode = 'A782E3'\n",
    "print(color.hexcode)\n",
    "print(color.r)\n",
    "print(color.g)\n",
    "print(color.b)"
   ]
  },
  {
   "cell_type": "markdown",
   "metadata": {},
   "source": [
    "class Circle"
   ]
  },
  {
   "cell_type": "code",
   "execution_count": 20,
   "metadata": {},
   "outputs": [
    {
     "name": "stdout",
     "output_type": "stream",
     "text": [
      "5\n",
      "5.0\n"
     ]
    }
   ],
   "source": [
    "class Circle:\n",
    "    def __init__(self, radius):\n",
    "        self.radius = radius\n",
    "        \n",
    "    @classmethod\n",
    "    def from_diameter(cls, diameter):\n",
    "        return cls(diameter / 2)\n",
    "    \n",
    "    \n",
    "circle = Circle(5)\n",
    "print(circle.radius)\n",
    "\n",
    "circle = Circle.from_diameter(10)\n",
    "\n",
    "print(circle.radius)"
   ]
  },
  {
   "cell_type": "markdown",
   "metadata": {},
   "source": [
    "class Rectangle"
   ]
  },
  {
   "cell_type": "code",
   "execution_count": 22,
   "metadata": {},
   "outputs": [
    {
     "name": "stdout",
     "output_type": "stream",
     "text": [
      "4\n",
      "5\n",
      "5\n",
      "5\n"
     ]
    }
   ],
   "source": [
    "class Rectangle:\n",
    "    def __init__(self, length, width):\n",
    "        self.length = length\n",
    "        self.width = width\n",
    "        \n",
    "    @classmethod\n",
    "    def square(cls, side):\n",
    "        return cls(side, side)\n",
    "    \n",
    "    \n",
    "rectangle = Rectangle(4, 5)\n",
    "\n",
    "print(rectangle.length)\n",
    "print(rectangle.width)\n",
    "\n",
    "rectangle = Rectangle.square(5)\n",
    "\n",
    "print(rectangle.length)\n",
    "print(rectangle.width)"
   ]
  },
  {
   "cell_type": "markdown",
   "metadata": {},
   "source": [
    "polynom 2"
   ]
  },
  {
   "cell_type": "code",
   "execution_count": 24,
   "metadata": {},
   "outputs": [
    {
     "name": "stdout",
     "output_type": "stream",
     "text": [
      "2\n",
      "13\n",
      "-1\n"
     ]
    }
   ],
   "source": [
    "from math import sqrt\n",
    "\n",
    "class QuadraticPolynomial:\n",
    "    def __init__(self, a, b, c):\n",
    "        self.a = a\n",
    "        self.b = b\n",
    "        self.c = c\n",
    "    \n",
    "    @classmethod\n",
    "    def from_iterable(cls, coeff):\n",
    "        return cls(*coeff)\n",
    "    \n",
    "    @classmethod\n",
    "    def from_str(cls, coeff):\n",
    "        return cls(*map(float, coeff.split()))\n",
    "        \n",
    "        \n",
    "polynom = QuadraticPolynomial.from_iterable([2, 13, -1])\n",
    "\n",
    "print(polynom.a)\n",
    "print(polynom.b)\n",
    "print(polynom.c)\n",
    "\n"
   ]
  },
  {
   "cell_type": "markdown",
   "metadata": {},
   "source": [
    "class Pet"
   ]
  },
  {
   "cell_type": "code",
   "execution_count": 31,
   "metadata": {},
   "outputs": [
    {
     "name": "stdout",
     "output_type": "stream",
     "text": [
      "Ratchet\n",
      "Rivet\n",
      "3\n"
     ]
    }
   ],
   "source": [
    "class Pet:\n",
    "    first = None\n",
    "    last = None\n",
    "    nums = 0\n",
    "    \n",
    "    def __init__(self, name):\n",
    "        self.name = name\n",
    "        Pet.nums += 1\n",
    "        Pet.last = self\n",
    "        if not Pet.first:\n",
    "            Pet.first = self\n",
    "        \n",
    "    @classmethod\n",
    "    def first_pet(cls):\n",
    "        return cls.first\n",
    "    \n",
    "    @classmethod\n",
    "    def last_pet(cls):\n",
    "        return cls.last\n",
    "    \n",
    "    @classmethod\n",
    "    def num_of_pets(cls):\n",
    "        return cls.nums\n",
    "    \n",
    "pet1 = Pet('Ratchet')\n",
    "pet2 = Pet('Clank')\n",
    "pet3 = Pet('Rivet')\n",
    "\n",
    "print(Pet.first_pet().name)\n",
    "print(Pet.last_pet().name)\n",
    "print(Pet.num_of_pets())"
   ]
  },
  {
   "cell_type": "markdown",
   "metadata": {},
   "source": [
    "Класс StrExtension\n"
   ]
  },
  {
   "cell_type": "code",
   "execution_count": 35,
   "metadata": {},
   "outputs": [
    {
     "name": "stdout",
     "output_type": "stream",
     "text": [
      "Pthn\n",
      "Stpk\n",
      "Python\n",
      "Stepik\n",
      "-y-ho-\n",
      "S#epi#\n"
     ]
    }
   ],
   "source": [
    "class StrExtension:\n",
    "    @staticmethod\n",
    "    def remove_vowels(string):\n",
    "        for sym in ('a', 'e', 'i', 'o', 'u', 'y'):\n",
    "            string = string.replace(sym, '').replace(sym.upper(), '')\n",
    "        return string\n",
    "        \n",
    "    @staticmethod\n",
    "    def leave_alpha(string):\n",
    "        return ''.join([i for i in string if i.isalpha()])\n",
    "    \n",
    "    @staticmethod\n",
    "    def replace_all(string, chars, char):\n",
    "        for sym in chars:\n",
    "            string = string.replace(sym, char)\n",
    "        return string\n",
    "\n",
    "print(StrExtension.remove_vowels('Python'))\n",
    "print(StrExtension.remove_vowels('Stepik'))\n",
    "print(StrExtension.leave_alpha('Python111'))\n",
    "print(StrExtension.leave_alpha('__Stepik__()'))\n",
    "print(StrExtension.replace_all('Python', 'Ptn', '-'))\n",
    "print(StrExtension.replace_all('Stepik', 'stk', '#'))"
   ]
  },
  {
   "cell_type": "markdown",
   "metadata": {},
   "source": [
    "Класс CaseHelper 🌶️🌶️"
   ]
  },
  {
   "cell_type": "code",
   "execution_count": 56,
   "metadata": {},
   "outputs": [
    {
     "name": "stdout",
     "output_type": "stream",
     "text": [
      "True\n",
      "True\n",
      "False\n",
      "False\n",
      "False\n",
      "False\n",
      "True\n",
      "True\n",
      "True\n",
      "True\n"
     ]
    }
   ],
   "source": [
    "class CaseHelper:\n",
    "    @staticmethod\n",
    "    def is_snake(string: str):\n",
    "        for sym in string:\n",
    "            if sym.isupper():\n",
    "                return False\n",
    "            if sym == ' ':\n",
    "                return False\n",
    "        if string[0] == '_' or string[-1] == '_':\n",
    "            return False\n",
    "        return True\n",
    "    \n",
    "    @staticmethod\n",
    "    def is_upper_camel(string):\n",
    "        for sym in string:\n",
    "            if sym == '_':\n",
    "                return False\n",
    "        if not string[0].isupper():\n",
    "            return False\n",
    "        return True\n",
    "    \n",
    "    @staticmethod\n",
    "    def to_snake(string):\n",
    "        i = 0\n",
    "        result = ''\n",
    "        while i < len(string):\n",
    "            if i > 0:\n",
    "                if string[i].isupper():\n",
    "                    result += '_'\n",
    "            result += string[i].lower()\n",
    "            i += 1\n",
    "        return result\n",
    "    \n",
    "    @staticmethod\n",
    "    def to_upper_camel(string):\n",
    "        i = 0\n",
    "        result = ''\n",
    "        while i < len(string):\n",
    "            if i == 0:\n",
    "                sym = string[i].upper()\n",
    "            elif string[i] == '_':\n",
    "                sym = string[i+1].upper()\n",
    "                i += 1\n",
    "            else:\n",
    "                sym = string[i]\n",
    "            i += 1\n",
    "            result += sym\n",
    "        return result\n",
    "            \n",
    "            \n",
    "\n",
    "cases = ['assert_equal', 'tear_down', '__init__', 'assertEqual', 'setUp', 'tearDown', 'run', 'exit', 'setup', 'its_wednesday_my_dudes']\n",
    "\n",
    "for case in cases:\n",
    "    print(CaseHelper.is_snake(case))"
   ]
  },
  {
   "cell_type": "code",
   "execution_count": 36,
   "metadata": {},
   "outputs": [
    {
     "data": {
      "text/plain": [
       "<function str.isupper()>"
      ]
     },
     "execution_count": 36,
     "metadata": {},
     "output_type": "execute_result"
    }
   ],
   "source": [
    "'a'.isupper"
   ]
  },
  {
   "cell_type": "markdown",
   "metadata": {},
   "source": [
    "Класс Processor\n"
   ]
  },
  {
   "cell_type": "code",
   "execution_count": 61,
   "metadata": {},
   "outputs": [
    {
     "name": "stdout",
     "output_type": "stream",
     "text": [
      "20\n",
      "10.4\n",
      "HELLO\n",
      "(1, 2, 3, 4)\n",
      "[1, 2, 3]\n"
     ]
    }
   ],
   "source": [
    "from functools import singledispatchmethod\n",
    "\n",
    "class Processor:\n",
    "    @singledispatchmethod\n",
    "    @staticmethod\n",
    "    def process(data):\n",
    "        raise TypeError('Аргумент переданного типа не поддерживается')\n",
    "    \n",
    "    @process.register\n",
    "    @staticmethod\n",
    "    def _process(data: float | int):\n",
    "        return data * 2\n",
    "    \n",
    "    @process.register\n",
    "    @staticmethod\n",
    "    def _process(data: str):\n",
    "        return data.upper()\n",
    "    \n",
    "    @process.register\n",
    "    @staticmethod\n",
    "    def _process(data: list):\n",
    "        return sorted(data)\n",
    "    \n",
    "    @process.register\n",
    "    @staticmethod\n",
    "    def _process(data: tuple):\n",
    "        return tuple(sorted(data))\n",
    "    \n",
    "print(Processor.process(10))\n",
    "print(Processor.process(5.2))\n",
    "print(Processor.process('hello'))\n",
    "print(Processor.process((4, 3, 2, 1)))\n",
    "print(Processor.process([3, 2, 1]))"
   ]
  },
  {
   "cell_type": "markdown",
   "metadata": {},
   "source": [
    "класс Negator\n"
   ]
  },
  {
   "cell_type": "code",
   "execution_count": 62,
   "metadata": {},
   "outputs": [
    {
     "name": "stdout",
     "output_type": "stream",
     "text": [
      "-11.0\n",
      "12\n",
      "False\n",
      "True\n"
     ]
    }
   ],
   "source": [
    "from functools import singledispatchmethod\n",
    "\n",
    "class Negator:\n",
    "    @singledispatchmethod\n",
    "    @staticmethod\n",
    "    def neg(data):\n",
    "        raise TypeError('Аргумент переданного типа не поддерживается')\n",
    "    \n",
    "    @neg.register(float)\n",
    "    @neg.register(int)\n",
    "    @staticmethod\n",
    "    def int_float_neg(data):\n",
    "        return data * (-1)\n",
    "    \n",
    "    \n",
    "    @neg.register(bool)\n",
    "    @staticmethod\n",
    "    def bool_neg(data):\n",
    "        return not data\n",
    "    \n",
    "print(Negator.neg(11.0))\n",
    "print(Negator.neg(-12))\n",
    "print(Negator.neg(True))\n",
    "print(Negator.neg(False))"
   ]
  },
  {
   "cell_type": "markdown",
   "metadata": {},
   "source": [
    "class Fromatter"
   ]
  },
  {
   "cell_type": "code",
   "execution_count": 76,
   "metadata": {},
   "outputs": [
    {
     "name": "stdout",
     "output_type": "stream",
     "text": [
      "Целое число: 1337\n",
      "Вещественное число: 20.77\n"
     ]
    }
   ],
   "source": [
    "from functools import singledispatchmethod\n",
    "\n",
    "class Formatter:\n",
    "    @singledispatchmethod\n",
    "    @staticmethod\n",
    "    def format(data):\n",
    "        raise TypeError('Аргумент переданного типа не поддерживается')\n",
    "    \n",
    "    @format.register(int)\n",
    "    @format.register(float)\n",
    "    @staticmethod\n",
    "    def int_format(data):\n",
    "        if isinstance(data, int):\n",
    "            pre_print = 'Целое число: '\n",
    "        else:\n",
    "            pre_print = 'Вещественное число: '\n",
    "        print(f'{pre_print}{data}')\n",
    "    \n",
    "    @format.register(tuple)\n",
    "    @format.register(list)\n",
    "    @staticmethod\n",
    "    def int_format(data):\n",
    "        # data = *data\n",
    "        if isinstance(data, tuple):\n",
    "            pre_print = 'Элементы кортежа: '\n",
    "        else:\n",
    "            pre_print = 'Элементы списка: '\n",
    "        print(f'{pre_print}{\", \".join([str(i) for i in data])}')\n",
    "    \n",
    "    \n",
    "    @format.register(dict)\n",
    "    @staticmethod\n",
    "    def int_format(data):\n",
    "        # s = *data.items()\n",
    "        print(f'Пары словаря: {\", \".join([str(i) for i in data.items()])}')\n",
    "    \n",
    "Formatter.format(1337)\n",
    "Formatter.format(20.77)"
   ]
  },
  {
   "cell_type": "code",
   "execution_count": 65,
   "metadata": {},
   "outputs": [
    {
     "name": "stdout",
     "output_type": "stream",
     "text": [
      "(1, 'one') (2, 'two')\n"
     ]
    }
   ],
   "source": [
    "k = {1: 'one', 2: 'two'}\n",
    "\n",
    "print(*k.items())"
   ]
  },
  {
   "cell_type": "markdown",
   "metadata": {},
   "source": [
    "Класс BirthInfo 🌶️\n"
   ]
  },
  {
   "cell_type": "code",
   "execution_count": 16,
   "metadata": {},
   "outputs": [
    {
     "name": "stdout",
     "output_type": "stream",
     "text": [
      "2020-09-18\n",
      "2010-10-10\n",
      "2016-01-01\n"
     ]
    }
   ],
   "source": [
    "from datetime import date\n",
    "from functools import singledispatchmethod\n",
    "\n",
    "class BirthInfo:\n",
    "    \n",
    "    \n",
    "    @singledispatchmethod\n",
    "    def __init__(self, birth_date):\n",
    "        raise TypeError('Аргумент переданного типа не поддерживается')\n",
    "        \n",
    "    @__init__.register(date)\n",
    "    def _from_date(self, birth_date):\n",
    "        self.birth_date = birth_date \n",
    "        \n",
    "    @__init__.register(tuple)\n",
    "    @__init__.register(list)\n",
    "    def _from_tuple(self, birth_date):\n",
    "        try:\n",
    "            self.birth_date = date(*birth_date) \n",
    "        except:\n",
    "            raise TypeError('Аргумент переданного типа не поддерживается')\n",
    "        \n",
    "    @__init__.register(str)\n",
    "    def _from_str(self, birth_date):\n",
    "        try:\n",
    "            self.birth_date = date.fromisoformat(birth_date)\n",
    "        except:\n",
    "            raise TypeError('Аргумент переданного типа не поддерживается')\n",
    "        \n",
    "    @property\n",
    "    def age(self):\n",
    "        age = date.today().year - self.birth_date.year\n",
    "        if date.today().month < self.birth_date.month:\n",
    "            age -= 1\n",
    "        elif date.today().month == self.birth_date.month and date.today().day < self.birth_date.day:\n",
    "            age -= 1\n",
    "        return age\n",
    "\n",
    "            \n",
    "        \n",
    "        \n",
    "birthinfo1 = BirthInfo('2020-09-18')\n",
    "birthinfo2 = BirthInfo(date(2010, 10, 10))\n",
    "birthinfo3 = BirthInfo([2016, 1, 1])\n",
    "\n",
    "print(birthinfo1.birth_date)\n",
    "print(birthinfo2.birth_date)\n",
    "print(birthinfo3.birth_date)"
   ]
  },
  {
   "cell_type": "code",
   "execution_count": 111,
   "metadata": {},
   "outputs": [
    {
     "data": {
      "text/plain": [
       "datetime.date(2020, 9, 18)"
      ]
     },
     "execution_count": 111,
     "metadata": {},
     "output_type": "execute_result"
    }
   ],
   "source": [
    "from datetime import date\n",
    "date.fromisoformat('2020-09-18')"
   ]
  },
  {
   "cell_type": "markdown",
   "metadata": {},
   "source": [
    "<span><h2 style=\"text-align: center;\">Класс Config</h2>\n",
    "\n",
    "<p>Реализуйте класс <code>Config</code>, который соответствует шаблону синглтон и описывает конфигурационный объект с фиксированными параметрами. При создании экземпляра класс не должен принимать никаких аргументов.</p>\n",
    "\n",
    "<p>При первом вызове класса&nbsp;<code>Config</code> должен создаваться и возвращаться экземпляр этого класса, а при последующих вызовах должен возвращаться экземпляр, созданный при первом вызове.</p>\n",
    "\n",
    "<p>Экземпляр класса&nbsp;<code>Config</code>&nbsp;должен иметь четыре атрибута:</p>\n",
    "\n",
    "<ul>\n",
    "\t<li><code>program_name</code>&nbsp;— атрибут со строковым значением <code>GenerationPy</code></li>\n",
    "\t<li><code>environment</code>&nbsp;—&nbsp;атрибут со строковым значением <code>release</code></li>\n",
    "\t<li><code>loglevel</code>&nbsp;—&nbsp;атрибут со строковым значением <code>verbose</code></li>\n",
    "\t<li><code>version</code>&nbsp;—&nbsp;атрибут со строковым значением <code>1.0.0</code></li>\n",
    "</ul>\n",
    "\n",
    "<p><strong>Примечание 1.&nbsp;</strong>Подробнее почитать про шаблон проектирования синглтон можно по&nbsp;<a href=\"https://ru.wikipedia.org/wiki/%D0%9E%D0%B4%D0%B8%D0%BD%D0%BE%D1%87%D0%BA%D0%B0_(%D1%88%D0%B0%D0%B1%D0%BB%D0%BE%D0%BD_%D0%BF%D1%80%D0%BE%D0%B5%D0%BA%D1%82%D0%B8%D1%80%D0%BE%D0%B2%D0%B0%D0%BD%D0%B8%D1%8F)#:~:text=Singleton)%20%E2%80%94%20%D0%BF%D0%BE%D1%80%D0%BE%D0%B6%D0%B4%D0%B0%D1%8E%D1%89%D0%B8%D0%B9%20%D1%88%D0%B0%D0%B1%D0%BB%D0%BE%D0%BD%20%D0%BF%D1%80%D0%BE%D0%B5%D0%BA%D1%82%D0%B8%D1%80%D0%BE%D0%B2%D0%B0%D0%BD%D0%B8%D1%8F%2C,%D1%82%D0%BE%D1%87%D0%BA%D1%83%20%D0%B4%D0%BE%D1%81%D1%82%D1%83%D0%BF%D0%B0%20%D0%BA%20%D1%8D%D1%82%D0%BE%D0%BC%D1%83%20%D1%8D%D0%BA%D0%B7%D0%B5%D0%BC%D0%BF%D0%BB%D1%8F%D1%80%D1%83.\" rel=\"noopener noreferrer nofollow\" target=\"_blank\">ссылке</a>.</p>\n",
    "\n",
    "<p><strong>Примечание 2.</strong>&nbsp;Никаких ограничений касательно реализации класса&nbsp;<code>Config</code>&nbsp;нет, она может быть произвольной.</p>\n",
    "\n",
    "<p><strong>Примечание 3.</strong> Тестовые данные доступны по ссылкам:</p>\n",
    "\n",
    "<ul>\n",
    "\t<li><a href=\"https://stepik.org/media/attachments/lesson/805763/15.zip\" rel=\"noopener noreferrer nofollow\">Архив с тестами</a></li>\n",
    "\t<li><a href=\"https://github.com/python-generation/OOP/tree/main/Module_5/Module_5.1/Module_5.1.15\" rel=\"noopener noreferrer nofollow\" target=\"_blank\">GitHub</a></li>\n",
    "</ul></span>"
   ]
  },
  {
   "cell_type": "code",
   "execution_count": 20,
   "metadata": {},
   "outputs": [
    {
     "name": "stdout",
     "output_type": "stream",
     "text": [
      "True\n",
      "True\n"
     ]
    }
   ],
   "source": [
    "class Config:\n",
    "    ready = None\n",
    "    \n",
    "    def __new__(cls):\n",
    "        if not cls.ready:\n",
    "            cls.ready = object.__new__(cls)\n",
    "        return cls.ready\n",
    "    \n",
    "    def __init__(self) -> None:\n",
    "        self.program_name = 'GenerationPy'\n",
    "        self.environment = 'release'\n",
    "        self.loglevel = 'verbose'\n",
    "        self.version = '1.0.0'\n",
    "        \n",
    "config1 = Config()\n",
    "config2 = Config()\n",
    "config3 = Config()\n",
    "\n",
    "print(config1 is config2)\n",
    "print(config1 is config3)"
   ]
  }
 ],
 "metadata": {
  "kernelspec": {
   "display_name": "Python 3",
   "language": "python",
   "name": "python3"
  },
  "language_info": {
   "codemirror_mode": {
    "name": "ipython",
    "version": 3
   },
   "file_extension": ".py",
   "mimetype": "text/x-python",
   "name": "python",
   "nbconvert_exporter": "python",
   "pygments_lexer": "ipython3",
   "version": "3.12.4"
  }
 },
 "nbformat": 4,
 "nbformat_minor": 2
}
